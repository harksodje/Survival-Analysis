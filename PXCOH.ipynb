{
 "cells": [
  {
   "cell_type": "code",
   "execution_count": 1,
   "id": "47008609",
   "metadata": {},
   "outputs": [],
   "source": [
    "#import necessary libraries\n",
    "import pandas as pd\n",
    "import numpy as np\n",
    "\n",
    "from sklearn.preprocessing import StandardScaler, LabelEncoder\n",
    "from sklearn_pandas import DataFrameMapper\n",
    "from sklearn.model_selection import train_test_split\n",
    "\n",
    "import matplotlib.pyplot as plt\n",
    "from pycox.models import CoxPH, DeepHit\n",
    "\n",
    "from pycox.evaluation import EvalSurv\n",
    "from pycox.simulations import SimStudyLinearPH\n",
    "\n",
    "import torch\n",
    "import torchtuples as tt"
   ]
  },
  {
   "cell_type": "code",
   "execution_count": 2,
   "id": "1f5eaae7",
   "metadata": {},
   "outputs": [],
   "source": [
    "#url = 'https://raw.githubusercontent.com/camicallierotti/imperial-summer-project/main/pbc.csv'\n",
    "df = pd.read_csv('pbc.csv')\n",
    "df = pd.DataFrame(df)"
   ]
  },
  {
   "cell_type": "code",
   "execution_count": 3,
   "id": "01bb22d7",
   "metadata": {
    "scrolled": true
   },
   "outputs": [
    {
     "data": {
      "text/html": [
       "<div>\n",
       "<style scoped>\n",
       "    .dataframe tbody tr th:only-of-type {\n",
       "        vertical-align: middle;\n",
       "    }\n",
       "\n",
       "    .dataframe tbody tr th {\n",
       "        vertical-align: top;\n",
       "    }\n",
       "\n",
       "    .dataframe thead th {\n",
       "        text-align: right;\n",
       "    }\n",
       "</style>\n",
       "<table border=\"1\" class=\"dataframe\">\n",
       "  <thead>\n",
       "    <tr style=\"text-align: right;\">\n",
       "      <th></th>\n",
       "      <th>id</th>\n",
       "      <th>time</th>\n",
       "      <th>status</th>\n",
       "      <th>trt</th>\n",
       "      <th>age</th>\n",
       "      <th>sex</th>\n",
       "      <th>ascites</th>\n",
       "      <th>hepato</th>\n",
       "      <th>spiders</th>\n",
       "      <th>edema</th>\n",
       "      <th>bili</th>\n",
       "      <th>chol</th>\n",
       "      <th>albumin</th>\n",
       "      <th>copper</th>\n",
       "      <th>alk.phos</th>\n",
       "      <th>ast</th>\n",
       "      <th>trig</th>\n",
       "      <th>platelet</th>\n",
       "      <th>protime</th>\n",
       "      <th>stage</th>\n",
       "    </tr>\n",
       "  </thead>\n",
       "  <tbody>\n",
       "    <tr>\n",
       "      <th>0</th>\n",
       "      <td>1</td>\n",
       "      <td>400</td>\n",
       "      <td>2</td>\n",
       "      <td>1.0</td>\n",
       "      <td>58.765229</td>\n",
       "      <td>f</td>\n",
       "      <td>1.0</td>\n",
       "      <td>1.0</td>\n",
       "      <td>1.0</td>\n",
       "      <td>1.0</td>\n",
       "      <td>14.5</td>\n",
       "      <td>261.0</td>\n",
       "      <td>2.60</td>\n",
       "      <td>156.0</td>\n",
       "      <td>1718.0</td>\n",
       "      <td>137.95</td>\n",
       "      <td>172.0</td>\n",
       "      <td>190.0</td>\n",
       "      <td>12.2</td>\n",
       "      <td>4.0</td>\n",
       "    </tr>\n",
       "    <tr>\n",
       "      <th>1</th>\n",
       "      <td>2</td>\n",
       "      <td>4500</td>\n",
       "      <td>0</td>\n",
       "      <td>1.0</td>\n",
       "      <td>56.446270</td>\n",
       "      <td>f</td>\n",
       "      <td>0.0</td>\n",
       "      <td>1.0</td>\n",
       "      <td>1.0</td>\n",
       "      <td>0.0</td>\n",
       "      <td>1.1</td>\n",
       "      <td>302.0</td>\n",
       "      <td>4.14</td>\n",
       "      <td>54.0</td>\n",
       "      <td>7394.8</td>\n",
       "      <td>113.52</td>\n",
       "      <td>88.0</td>\n",
       "      <td>221.0</td>\n",
       "      <td>10.6</td>\n",
       "      <td>3.0</td>\n",
       "    </tr>\n",
       "    <tr>\n",
       "      <th>2</th>\n",
       "      <td>3</td>\n",
       "      <td>1012</td>\n",
       "      <td>2</td>\n",
       "      <td>1.0</td>\n",
       "      <td>70.072553</td>\n",
       "      <td>m</td>\n",
       "      <td>0.0</td>\n",
       "      <td>0.0</td>\n",
       "      <td>0.0</td>\n",
       "      <td>0.5</td>\n",
       "      <td>1.4</td>\n",
       "      <td>176.0</td>\n",
       "      <td>3.48</td>\n",
       "      <td>210.0</td>\n",
       "      <td>516.0</td>\n",
       "      <td>96.10</td>\n",
       "      <td>55.0</td>\n",
       "      <td>151.0</td>\n",
       "      <td>12.0</td>\n",
       "      <td>4.0</td>\n",
       "    </tr>\n",
       "    <tr>\n",
       "      <th>3</th>\n",
       "      <td>4</td>\n",
       "      <td>1925</td>\n",
       "      <td>2</td>\n",
       "      <td>1.0</td>\n",
       "      <td>54.740589</td>\n",
       "      <td>f</td>\n",
       "      <td>0.0</td>\n",
       "      <td>1.0</td>\n",
       "      <td>1.0</td>\n",
       "      <td>0.5</td>\n",
       "      <td>1.8</td>\n",
       "      <td>244.0</td>\n",
       "      <td>2.54</td>\n",
       "      <td>64.0</td>\n",
       "      <td>6121.8</td>\n",
       "      <td>60.63</td>\n",
       "      <td>92.0</td>\n",
       "      <td>183.0</td>\n",
       "      <td>10.3</td>\n",
       "      <td>4.0</td>\n",
       "    </tr>\n",
       "    <tr>\n",
       "      <th>4</th>\n",
       "      <td>5</td>\n",
       "      <td>1504</td>\n",
       "      <td>1</td>\n",
       "      <td>2.0</td>\n",
       "      <td>38.105407</td>\n",
       "      <td>f</td>\n",
       "      <td>0.0</td>\n",
       "      <td>1.0</td>\n",
       "      <td>1.0</td>\n",
       "      <td>0.0</td>\n",
       "      <td>3.4</td>\n",
       "      <td>279.0</td>\n",
       "      <td>3.53</td>\n",
       "      <td>143.0</td>\n",
       "      <td>671.0</td>\n",
       "      <td>113.15</td>\n",
       "      <td>72.0</td>\n",
       "      <td>136.0</td>\n",
       "      <td>10.9</td>\n",
       "      <td>3.0</td>\n",
       "    </tr>\n",
       "  </tbody>\n",
       "</table>\n",
       "</div>"
      ],
      "text/plain": [
       "   id  time  status  trt        age sex  ascites  hepato  spiders  edema  \\\n",
       "0   1   400       2  1.0  58.765229   f      1.0     1.0      1.0    1.0   \n",
       "1   2  4500       0  1.0  56.446270   f      0.0     1.0      1.0    0.0   \n",
       "2   3  1012       2  1.0  70.072553   m      0.0     0.0      0.0    0.5   \n",
       "3   4  1925       2  1.0  54.740589   f      0.0     1.0      1.0    0.5   \n",
       "4   5  1504       1  2.0  38.105407   f      0.0     1.0      1.0    0.0   \n",
       "\n",
       "   bili   chol  albumin  copper  alk.phos     ast   trig  platelet  protime  \\\n",
       "0  14.5  261.0     2.60   156.0    1718.0  137.95  172.0     190.0     12.2   \n",
       "1   1.1  302.0     4.14    54.0    7394.8  113.52   88.0     221.0     10.6   \n",
       "2   1.4  176.0     3.48   210.0     516.0   96.10   55.0     151.0     12.0   \n",
       "3   1.8  244.0     2.54    64.0    6121.8   60.63   92.0     183.0     10.3   \n",
       "4   3.4  279.0     3.53   143.0     671.0  113.15   72.0     136.0     10.9   \n",
       "\n",
       "   stage  \n",
       "0    4.0  \n",
       "1    3.0  \n",
       "2    4.0  \n",
       "3    4.0  \n",
       "4    3.0  "
      ]
     },
     "execution_count": 3,
     "metadata": {},
     "output_type": "execute_result"
    }
   ],
   "source": [
    "df.head()"
   ]
  },
  {
   "cell_type": "code",
   "execution_count": 4,
   "id": "03b57b4a",
   "metadata": {},
   "outputs": [],
   "source": [
    "# to label encoding categorical variables\n",
    "le = LabelEncoder() #label encoder\n",
    "'''cat_list = ['trt', 'age', 'sex', 'ascites', 'hepato', 'spiders', 'edema','stage'] #list of categorical variables\n",
    "for cat in cat_list:\n",
    "    df[cat] = le.fit_transform(df[cat])'''\n",
    "df['sex'] = le.fit_transform(df['sex'])"
   ]
  },
  {
   "cell_type": "code",
   "execution_count": 5,
   "id": "a5c626ec",
   "metadata": {},
   "outputs": [
    {
     "data": {
      "text/html": [
       "<div>\n",
       "<style scoped>\n",
       "    .dataframe tbody tr th:only-of-type {\n",
       "        vertical-align: middle;\n",
       "    }\n",
       "\n",
       "    .dataframe tbody tr th {\n",
       "        vertical-align: top;\n",
       "    }\n",
       "\n",
       "    .dataframe thead th {\n",
       "        text-align: right;\n",
       "    }\n",
       "</style>\n",
       "<table border=\"1\" class=\"dataframe\">\n",
       "  <thead>\n",
       "    <tr style=\"text-align: right;\">\n",
       "      <th></th>\n",
       "      <th>id</th>\n",
       "      <th>time</th>\n",
       "      <th>status</th>\n",
       "      <th>trt</th>\n",
       "      <th>age</th>\n",
       "      <th>sex</th>\n",
       "      <th>ascites</th>\n",
       "      <th>hepato</th>\n",
       "      <th>spiders</th>\n",
       "      <th>edema</th>\n",
       "      <th>bili</th>\n",
       "      <th>chol</th>\n",
       "      <th>albumin</th>\n",
       "      <th>copper</th>\n",
       "      <th>alk.phos</th>\n",
       "      <th>ast</th>\n",
       "      <th>trig</th>\n",
       "      <th>platelet</th>\n",
       "      <th>protime</th>\n",
       "      <th>stage</th>\n",
       "    </tr>\n",
       "  </thead>\n",
       "  <tbody>\n",
       "    <tr>\n",
       "      <th>0</th>\n",
       "      <td>1</td>\n",
       "      <td>400</td>\n",
       "      <td>2</td>\n",
       "      <td>1.0</td>\n",
       "      <td>58.765229</td>\n",
       "      <td>0</td>\n",
       "      <td>1.0</td>\n",
       "      <td>1.0</td>\n",
       "      <td>1.0</td>\n",
       "      <td>1.0</td>\n",
       "      <td>14.5</td>\n",
       "      <td>261.0</td>\n",
       "      <td>2.60</td>\n",
       "      <td>156.0</td>\n",
       "      <td>1718.0</td>\n",
       "      <td>137.95</td>\n",
       "      <td>172.0</td>\n",
       "      <td>190.0</td>\n",
       "      <td>12.2</td>\n",
       "      <td>4.0</td>\n",
       "    </tr>\n",
       "    <tr>\n",
       "      <th>1</th>\n",
       "      <td>2</td>\n",
       "      <td>4500</td>\n",
       "      <td>0</td>\n",
       "      <td>1.0</td>\n",
       "      <td>56.446270</td>\n",
       "      <td>0</td>\n",
       "      <td>0.0</td>\n",
       "      <td>1.0</td>\n",
       "      <td>1.0</td>\n",
       "      <td>0.0</td>\n",
       "      <td>1.1</td>\n",
       "      <td>302.0</td>\n",
       "      <td>4.14</td>\n",
       "      <td>54.0</td>\n",
       "      <td>7394.8</td>\n",
       "      <td>113.52</td>\n",
       "      <td>88.0</td>\n",
       "      <td>221.0</td>\n",
       "      <td>10.6</td>\n",
       "      <td>3.0</td>\n",
       "    </tr>\n",
       "    <tr>\n",
       "      <th>2</th>\n",
       "      <td>3</td>\n",
       "      <td>1012</td>\n",
       "      <td>2</td>\n",
       "      <td>1.0</td>\n",
       "      <td>70.072553</td>\n",
       "      <td>1</td>\n",
       "      <td>0.0</td>\n",
       "      <td>0.0</td>\n",
       "      <td>0.0</td>\n",
       "      <td>0.5</td>\n",
       "      <td>1.4</td>\n",
       "      <td>176.0</td>\n",
       "      <td>3.48</td>\n",
       "      <td>210.0</td>\n",
       "      <td>516.0</td>\n",
       "      <td>96.10</td>\n",
       "      <td>55.0</td>\n",
       "      <td>151.0</td>\n",
       "      <td>12.0</td>\n",
       "      <td>4.0</td>\n",
       "    </tr>\n",
       "    <tr>\n",
       "      <th>3</th>\n",
       "      <td>4</td>\n",
       "      <td>1925</td>\n",
       "      <td>2</td>\n",
       "      <td>1.0</td>\n",
       "      <td>54.740589</td>\n",
       "      <td>0</td>\n",
       "      <td>0.0</td>\n",
       "      <td>1.0</td>\n",
       "      <td>1.0</td>\n",
       "      <td>0.5</td>\n",
       "      <td>1.8</td>\n",
       "      <td>244.0</td>\n",
       "      <td>2.54</td>\n",
       "      <td>64.0</td>\n",
       "      <td>6121.8</td>\n",
       "      <td>60.63</td>\n",
       "      <td>92.0</td>\n",
       "      <td>183.0</td>\n",
       "      <td>10.3</td>\n",
       "      <td>4.0</td>\n",
       "    </tr>\n",
       "    <tr>\n",
       "      <th>4</th>\n",
       "      <td>5</td>\n",
       "      <td>1504</td>\n",
       "      <td>1</td>\n",
       "      <td>2.0</td>\n",
       "      <td>38.105407</td>\n",
       "      <td>0</td>\n",
       "      <td>0.0</td>\n",
       "      <td>1.0</td>\n",
       "      <td>1.0</td>\n",
       "      <td>0.0</td>\n",
       "      <td>3.4</td>\n",
       "      <td>279.0</td>\n",
       "      <td>3.53</td>\n",
       "      <td>143.0</td>\n",
       "      <td>671.0</td>\n",
       "      <td>113.15</td>\n",
       "      <td>72.0</td>\n",
       "      <td>136.0</td>\n",
       "      <td>10.9</td>\n",
       "      <td>3.0</td>\n",
       "    </tr>\n",
       "  </tbody>\n",
       "</table>\n",
       "</div>"
      ],
      "text/plain": [
       "   id  time  status  trt        age  sex  ascites  hepato  spiders  edema  \\\n",
       "0   1   400       2  1.0  58.765229    0      1.0     1.0      1.0    1.0   \n",
       "1   2  4500       0  1.0  56.446270    0      0.0     1.0      1.0    0.0   \n",
       "2   3  1012       2  1.0  70.072553    1      0.0     0.0      0.0    0.5   \n",
       "3   4  1925       2  1.0  54.740589    0      0.0     1.0      1.0    0.5   \n",
       "4   5  1504       1  2.0  38.105407    0      0.0     1.0      1.0    0.0   \n",
       "\n",
       "   bili   chol  albumin  copper  alk.phos     ast   trig  platelet  protime  \\\n",
       "0  14.5  261.0     2.60   156.0    1718.0  137.95  172.0     190.0     12.2   \n",
       "1   1.1  302.0     4.14    54.0    7394.8  113.52   88.0     221.0     10.6   \n",
       "2   1.4  176.0     3.48   210.0     516.0   96.10   55.0     151.0     12.0   \n",
       "3   1.8  244.0     2.54    64.0    6121.8   60.63   92.0     183.0     10.3   \n",
       "4   3.4  279.0     3.53   143.0     671.0  113.15   72.0     136.0     10.9   \n",
       "\n",
       "   stage  \n",
       "0    4.0  \n",
       "1    3.0  \n",
       "2    4.0  \n",
       "3    4.0  \n",
       "4    3.0  "
      ]
     },
     "execution_count": 5,
     "metadata": {},
     "output_type": "execute_result"
    }
   ],
   "source": [
    "df.head()"
   ]
  },
  {
   "cell_type": "code",
   "execution_count": 6,
   "id": "86e1252e",
   "metadata": {},
   "outputs": [
    {
     "data": {
      "text/plain": [
       "id            0\n",
       "time          0\n",
       "status        0\n",
       "trt         106\n",
       "age           0\n",
       "sex           0\n",
       "ascites     106\n",
       "hepato      106\n",
       "spiders     106\n",
       "edema         0\n",
       "bili          0\n",
       "chol        134\n",
       "albumin       0\n",
       "copper      108\n",
       "alk.phos    106\n",
       "ast         106\n",
       "trig        136\n",
       "platelet     11\n",
       "protime       2\n",
       "stage         6\n",
       "dtype: int64"
      ]
     },
     "execution_count": 6,
     "metadata": {},
     "output_type": "execute_result"
    }
   ],
   "source": [
    "# summary of the data set\n",
    "df.isnull().sum() # number of missing values"
   ]
  },
  {
   "cell_type": "code",
   "execution_count": 7,
   "id": "42366676",
   "metadata": {},
   "outputs": [
    {
     "name": "stdout",
     "output_type": "stream",
     "text": [
      "total numbers of missing values :136 and total rows in dataframe 418\n"
     ]
    }
   ],
   "source": [
    "# to check if there are missing values in the variables \n",
    "print(f'total numbers of missing values :{df.isnull().sum().max()} and total rows in dataframe {len(df)}')"
   ]
  },
  {
   "cell_type": "code",
   "execution_count": 8,
   "id": "a1b7ecd3",
   "metadata": {},
   "outputs": [],
   "source": [
    "# to drop missing value from the dataframe\n",
    "df_new = df\n",
    "df_new.dropna(how='any', inplace= True)"
   ]
  },
  {
   "cell_type": "code",
   "execution_count": 9,
   "id": "55011a67",
   "metadata": {
    "scrolled": true
   },
   "outputs": [
    {
     "data": {
      "text/plain": [
       "276"
      ]
     },
     "execution_count": 9,
     "metadata": {},
     "output_type": "execute_result"
    }
   ],
   "source": [
    "len(df_new)"
   ]
  },
  {
   "cell_type": "code",
   "execution_count": 10,
   "id": "6c82685c",
   "metadata": {},
   "outputs": [
    {
     "data": {
      "text/html": [
       "<div>\n",
       "<style scoped>\n",
       "    .dataframe tbody tr th:only-of-type {\n",
       "        vertical-align: middle;\n",
       "    }\n",
       "\n",
       "    .dataframe tbody tr th {\n",
       "        vertical-align: top;\n",
       "    }\n",
       "\n",
       "    .dataframe thead th {\n",
       "        text-align: right;\n",
       "    }\n",
       "</style>\n",
       "<table border=\"1\" class=\"dataframe\">\n",
       "  <thead>\n",
       "    <tr style=\"text-align: right;\">\n",
       "      <th></th>\n",
       "      <th>id</th>\n",
       "      <th>time</th>\n",
       "      <th>status</th>\n",
       "      <th>trt</th>\n",
       "      <th>age</th>\n",
       "      <th>sex</th>\n",
       "      <th>ascites</th>\n",
       "      <th>hepato</th>\n",
       "      <th>spiders</th>\n",
       "      <th>edema</th>\n",
       "      <th>bili</th>\n",
       "      <th>chol</th>\n",
       "      <th>albumin</th>\n",
       "      <th>copper</th>\n",
       "      <th>alk.phos</th>\n",
       "      <th>ast</th>\n",
       "      <th>trig</th>\n",
       "      <th>platelet</th>\n",
       "      <th>protime</th>\n",
       "      <th>stage</th>\n",
       "    </tr>\n",
       "  </thead>\n",
       "  <tbody>\n",
       "    <tr>\n",
       "      <th>count</th>\n",
       "      <td>276.000000</td>\n",
       "      <td>276.000000</td>\n",
       "      <td>276.000000</td>\n",
       "      <td>276.000000</td>\n",
       "      <td>276.000000</td>\n",
       "      <td>276.000000</td>\n",
       "      <td>276.000000</td>\n",
       "      <td>276.000000</td>\n",
       "      <td>276.000000</td>\n",
       "      <td>276.000000</td>\n",
       "      <td>276.000000</td>\n",
       "      <td>276.000000</td>\n",
       "      <td>276.000000</td>\n",
       "      <td>276.000000</td>\n",
       "      <td>276.000000</td>\n",
       "      <td>276.000000</td>\n",
       "      <td>276.000000</td>\n",
       "      <td>276.000000</td>\n",
       "      <td>276.000000</td>\n",
       "      <td>276.000000</td>\n",
       "    </tr>\n",
       "    <tr>\n",
       "      <th>mean</th>\n",
       "      <td>158.615942</td>\n",
       "      <td>1979.166667</td>\n",
       "      <td>0.869565</td>\n",
       "      <td>1.507246</td>\n",
       "      <td>49.799661</td>\n",
       "      <td>0.123188</td>\n",
       "      <td>0.068841</td>\n",
       "      <td>0.514493</td>\n",
       "      <td>0.289855</td>\n",
       "      <td>0.106884</td>\n",
       "      <td>3.333696</td>\n",
       "      <td>371.260870</td>\n",
       "      <td>3.516812</td>\n",
       "      <td>100.768116</td>\n",
       "      <td>1996.611594</td>\n",
       "      <td>124.119239</td>\n",
       "      <td>124.978261</td>\n",
       "      <td>261.771739</td>\n",
       "      <td>10.735507</td>\n",
       "      <td>3.039855</td>\n",
       "    </tr>\n",
       "    <tr>\n",
       "      <th>std</th>\n",
       "      <td>91.662926</td>\n",
       "      <td>1112.380295</td>\n",
       "      <td>0.959743</td>\n",
       "      <td>0.500856</td>\n",
       "      <td>10.523082</td>\n",
       "      <td>0.329250</td>\n",
       "      <td>0.253643</td>\n",
       "      <td>0.500698</td>\n",
       "      <td>0.454519</td>\n",
       "      <td>0.270333</td>\n",
       "      <td>4.601074</td>\n",
       "      <td>234.788363</td>\n",
       "      <td>0.404789</td>\n",
       "      <td>88.268746</td>\n",
       "      <td>2115.477894</td>\n",
       "      <td>56.719952</td>\n",
       "      <td>65.280761</td>\n",
       "      <td>93.128857</td>\n",
       "      <td>1.008315</td>\n",
       "      <td>0.853999</td>\n",
       "    </tr>\n",
       "    <tr>\n",
       "      <th>min</th>\n",
       "      <td>1.000000</td>\n",
       "      <td>41.000000</td>\n",
       "      <td>0.000000</td>\n",
       "      <td>1.000000</td>\n",
       "      <td>26.277892</td>\n",
       "      <td>0.000000</td>\n",
       "      <td>0.000000</td>\n",
       "      <td>0.000000</td>\n",
       "      <td>0.000000</td>\n",
       "      <td>0.000000</td>\n",
       "      <td>0.300000</td>\n",
       "      <td>120.000000</td>\n",
       "      <td>1.960000</td>\n",
       "      <td>4.000000</td>\n",
       "      <td>289.000000</td>\n",
       "      <td>28.380000</td>\n",
       "      <td>33.000000</td>\n",
       "      <td>62.000000</td>\n",
       "      <td>9.000000</td>\n",
       "      <td>1.000000</td>\n",
       "    </tr>\n",
       "    <tr>\n",
       "      <th>25%</th>\n",
       "      <td>79.750000</td>\n",
       "      <td>1185.750000</td>\n",
       "      <td>0.000000</td>\n",
       "      <td>1.000000</td>\n",
       "      <td>41.512663</td>\n",
       "      <td>0.000000</td>\n",
       "      <td>0.000000</td>\n",
       "      <td>0.000000</td>\n",
       "      <td>0.000000</td>\n",
       "      <td>0.000000</td>\n",
       "      <td>0.800000</td>\n",
       "      <td>249.500000</td>\n",
       "      <td>3.310000</td>\n",
       "      <td>42.750000</td>\n",
       "      <td>922.500000</td>\n",
       "      <td>82.457500</td>\n",
       "      <td>85.000000</td>\n",
       "      <td>200.000000</td>\n",
       "      <td>10.000000</td>\n",
       "      <td>2.000000</td>\n",
       "    </tr>\n",
       "    <tr>\n",
       "      <th>50%</th>\n",
       "      <td>157.500000</td>\n",
       "      <td>1788.000000</td>\n",
       "      <td>0.000000</td>\n",
       "      <td>2.000000</td>\n",
       "      <td>49.709788</td>\n",
       "      <td>0.000000</td>\n",
       "      <td>0.000000</td>\n",
       "      <td>1.000000</td>\n",
       "      <td>0.000000</td>\n",
       "      <td>0.000000</td>\n",
       "      <td>1.400000</td>\n",
       "      <td>310.000000</td>\n",
       "      <td>3.545000</td>\n",
       "      <td>74.000000</td>\n",
       "      <td>1277.500000</td>\n",
       "      <td>116.625000</td>\n",
       "      <td>108.000000</td>\n",
       "      <td>257.000000</td>\n",
       "      <td>10.600000</td>\n",
       "      <td>3.000000</td>\n",
       "    </tr>\n",
       "    <tr>\n",
       "      <th>75%</th>\n",
       "      <td>240.250000</td>\n",
       "      <td>2689.750000</td>\n",
       "      <td>2.000000</td>\n",
       "      <td>2.000000</td>\n",
       "      <td>56.584531</td>\n",
       "      <td>0.000000</td>\n",
       "      <td>0.000000</td>\n",
       "      <td>1.000000</td>\n",
       "      <td>1.000000</td>\n",
       "      <td>0.000000</td>\n",
       "      <td>3.525000</td>\n",
       "      <td>401.000000</td>\n",
       "      <td>3.772500</td>\n",
       "      <td>129.250000</td>\n",
       "      <td>2068.250000</td>\n",
       "      <td>153.450000</td>\n",
       "      <td>151.250000</td>\n",
       "      <td>318.250000</td>\n",
       "      <td>11.200000</td>\n",
       "      <td>4.000000</td>\n",
       "    </tr>\n",
       "    <tr>\n",
       "      <th>max</th>\n",
       "      <td>312.000000</td>\n",
       "      <td>4556.000000</td>\n",
       "      <td>2.000000</td>\n",
       "      <td>2.000000</td>\n",
       "      <td>78.439425</td>\n",
       "      <td>1.000000</td>\n",
       "      <td>1.000000</td>\n",
       "      <td>1.000000</td>\n",
       "      <td>1.000000</td>\n",
       "      <td>1.000000</td>\n",
       "      <td>28.000000</td>\n",
       "      <td>1775.000000</td>\n",
       "      <td>4.400000</td>\n",
       "      <td>588.000000</td>\n",
       "      <td>13862.400000</td>\n",
       "      <td>457.250000</td>\n",
       "      <td>598.000000</td>\n",
       "      <td>563.000000</td>\n",
       "      <td>17.100000</td>\n",
       "      <td>4.000000</td>\n",
       "    </tr>\n",
       "  </tbody>\n",
       "</table>\n",
       "</div>"
      ],
      "text/plain": [
       "               id         time      status         trt         age  \\\n",
       "count  276.000000   276.000000  276.000000  276.000000  276.000000   \n",
       "mean   158.615942  1979.166667    0.869565    1.507246   49.799661   \n",
       "std     91.662926  1112.380295    0.959743    0.500856   10.523082   \n",
       "min      1.000000    41.000000    0.000000    1.000000   26.277892   \n",
       "25%     79.750000  1185.750000    0.000000    1.000000   41.512663   \n",
       "50%    157.500000  1788.000000    0.000000    2.000000   49.709788   \n",
       "75%    240.250000  2689.750000    2.000000    2.000000   56.584531   \n",
       "max    312.000000  4556.000000    2.000000    2.000000   78.439425   \n",
       "\n",
       "              sex     ascites      hepato     spiders       edema        bili  \\\n",
       "count  276.000000  276.000000  276.000000  276.000000  276.000000  276.000000   \n",
       "mean     0.123188    0.068841    0.514493    0.289855    0.106884    3.333696   \n",
       "std      0.329250    0.253643    0.500698    0.454519    0.270333    4.601074   \n",
       "min      0.000000    0.000000    0.000000    0.000000    0.000000    0.300000   \n",
       "25%      0.000000    0.000000    0.000000    0.000000    0.000000    0.800000   \n",
       "50%      0.000000    0.000000    1.000000    0.000000    0.000000    1.400000   \n",
       "75%      0.000000    0.000000    1.000000    1.000000    0.000000    3.525000   \n",
       "max      1.000000    1.000000    1.000000    1.000000    1.000000   28.000000   \n",
       "\n",
       "              chol     albumin      copper      alk.phos         ast  \\\n",
       "count   276.000000  276.000000  276.000000    276.000000  276.000000   \n",
       "mean    371.260870    3.516812  100.768116   1996.611594  124.119239   \n",
       "std     234.788363    0.404789   88.268746   2115.477894   56.719952   \n",
       "min     120.000000    1.960000    4.000000    289.000000   28.380000   \n",
       "25%     249.500000    3.310000   42.750000    922.500000   82.457500   \n",
       "50%     310.000000    3.545000   74.000000   1277.500000  116.625000   \n",
       "75%     401.000000    3.772500  129.250000   2068.250000  153.450000   \n",
       "max    1775.000000    4.400000  588.000000  13862.400000  457.250000   \n",
       "\n",
       "             trig    platelet     protime       stage  \n",
       "count  276.000000  276.000000  276.000000  276.000000  \n",
       "mean   124.978261  261.771739   10.735507    3.039855  \n",
       "std     65.280761   93.128857    1.008315    0.853999  \n",
       "min     33.000000   62.000000    9.000000    1.000000  \n",
       "25%     85.000000  200.000000   10.000000    2.000000  \n",
       "50%    108.000000  257.000000   10.600000    3.000000  \n",
       "75%    151.250000  318.250000   11.200000    4.000000  \n",
       "max    598.000000  563.000000   17.100000    4.000000  "
      ]
     },
     "execution_count": 10,
     "metadata": {},
     "output_type": "execute_result"
    }
   ],
   "source": [
    "# descriptive of the data i\n",
    "df_new.describe()"
   ]
  },
  {
   "cell_type": "code",
   "execution_count": 11,
   "id": "e3860881",
   "metadata": {},
   "outputs": [],
   "source": [
    "data_train = df_new #train data \n",
    "data_test = df_new.sample(frac= 0.2) #test data\n",
    "data_val = df_new.sample (frac= 0.2) #val data"
   ]
  },
  {
   "cell_type": "code",
   "execution_count": 12,
   "id": "b944cfdd",
   "metadata": {},
   "outputs": [],
   "source": [
    "# function to get targets variable\n",
    "Y = lambda df_new: (df_new['time'].values, df_new['status'].values)\n",
    "\n",
    "# to standardize and get dependent variables \n",
    "x_num = ['age','bili', 'chol', 'albumin', 'copper', 'alk.phos',\n",
    "       'ast', 'trig', 'platelet', 'protime'] # list of variables for standardization\n",
    "x_cat = ['trt','sex', 'ascites', 'hepato',\n",
    "       'spiders', 'edema', 'stage'] #categorical variables \n",
    "standardize = [([num], StandardScaler()) for num in x_num]\n",
    "label = [([cat], None) for cat in x_cat]\n",
    "\n",
    "X_map = DataFrameMapper(standardize + label)"
   ]
  },
  {
   "cell_type": "code",
   "execution_count": 13,
   "id": "33953f3b",
   "metadata": {},
   "outputs": [],
   "source": [
    "x_train = X_map.fit_transform(data_train).astype('float32') # x train\n",
    "x_test= X_map.fit_transform(data_test).astype('float32') # x test\n",
    "x_val = X_map.fit_transform(data_val).astype('float32') # x va\n"
   ]
  },
  {
   "cell_type": "code",
   "execution_count": 14,
   "id": "02b0b8e7",
   "metadata": {},
   "outputs": [],
   "source": [
    "y_train = Y(data_train) # y train\n",
    "time_test , status_test = Y(data_test) # test dependent variables Time & Status\n",
    "y_val = Y(data_val) # y val\n",
    "val = x_val, y_val # validation data for x and y "
   ]
  },
  {
   "cell_type": "code",
   "execution_count": 15,
   "id": "c6fe228d",
   "metadata": {},
   "outputs": [
    {
     "data": {
      "text/plain": [
       "2"
      ]
     },
     "execution_count": 15,
     "metadata": {},
     "output_type": "execute_result"
    }
   ],
   "source": [
    "len(y_train)"
   ]
  },
  {
   "cell_type": "markdown",
   "id": "b22b8021",
   "metadata": {},
   "source": [
    "# Building the neural network model for PHCOX"
   ]
  },
  {
   "cell_type": "code",
   "execution_count": 16,
   "id": "17e266d4",
   "metadata": {},
   "outputs": [],
   "source": [
    "in_features = x_train.shape[1]\n",
    "num_nodes = [32, 32]\n",
    "out_features = 1\n",
    "batch_norm = True\n",
    "dropout = 0.1\n",
    "output_bias = False\n",
    "\n",
    "net = tt.practical.MLPVanilla(in_features, num_nodes, out_features, batch_norm,\n",
    "                              dropout, output_bias=output_bias)"
   ]
  },
  {
   "cell_type": "code",
   "execution_count": 17,
   "id": "1e1fdeb8",
   "metadata": {},
   "outputs": [],
   "source": [
    "model_cox = CoxPH(net, tt.optim.Adam) #cox model on the neural network with Adam optimizer"
   ]
  },
  {
   "cell_type": "code",
   "execution_count": 18,
   "id": "780810ca",
   "metadata": {},
   "outputs": [
    {
     "data": {
      "image/png": "[encoded data removed]",
      "text/plain": [
       "<Figure size 432x288 with 1 Axes>"
      ]
     },
     "metadata": {
      "needs_background": "light"
     },
     "output_type": "display_data"
    }
   ],
   "source": [
    "#learning rate for the cox model\n",
    "lrfinder_cox = model_cox.lr_finder(x_train, y_train, batch_size = 256, tolerance=10) \n",
    "_ = lrfinder_cox.plot()"
   ]
  },
  {
   "cell_type": "code",
   "execution_count": 19,
   "id": "fb0aa261",
   "metadata": {},
   "outputs": [],
   "source": [
    "# setting the learnig rate \n",
    "model_cox.optimizer.set_lr(0.001)"
   ]
  },
  {
   "cell_type": "code",
   "execution_count": 22,
   "id": "a7e04b77",
   "metadata": {},
   "outputs": [
    {
     "name": "stdout",
     "output_type": "stream",
     "text": [
      "57:\t[0s / 0s],\t\ttrain_loss: 3.2140,\tval_loss: 2.4504\n",
      "58:\t[0s / 0s],\t\ttrain_loss: 3.2207,\tval_loss: 2.4399\n",
      "59:\t[0s / 0s],\t\ttrain_loss: 3.1313,\tval_loss: 2.4302\n",
      "60:\t[0s / 0s],\t\ttrain_loss: 3.0168,\tval_loss: 2.4368\n",
      "61:\t[0s / 0s],\t\ttrain_loss: 2.8982,\tval_loss: 2.4422\n",
      "62:\t[0s / 0s],\t\ttrain_loss: 2.7793,\tval_loss: 2.4313\n",
      "63:\t[0s / 0s],\t\ttrain_loss: 3.0692,\tval_loss: 2.4233\n",
      "64:\t[0s / 0s],\t\ttrain_loss: 2.8566,\tval_loss: 2.4158\n",
      "65:\t[0s / 0s],\t\ttrain_loss: 3.0206,\tval_loss: 2.4118\n",
      "66:\t[0s / 0s],\t\ttrain_loss: 2.8512,\tval_loss: 2.4153\n",
      "67:\t[0s / 0s],\t\ttrain_loss: 3.0142,\tval_loss: 2.4178\n",
      "68:\t[0s / 0s],\t\ttrain_loss: 2.9697,\tval_loss: 2.4085\n",
      "69:\t[0s / 0s],\t\ttrain_loss: 3.0000,\tval_loss: 2.3972\n",
      "70:\t[0s / 0s],\t\ttrain_loss: 2.9559,\tval_loss: 2.3892\n",
      "71:\t[0s / 0s],\t\ttrain_loss: 3.2163,\tval_loss: 2.3766\n",
      "72:\t[0s / 0s],\t\ttrain_loss: 3.0671,\tval_loss: 2.3846\n",
      "73:\t[0s / 0s],\t\ttrain_loss: 2.8967,\tval_loss: 2.3821\n",
      "74:\t[0s / 0s],\t\ttrain_loss: 3.0650,\tval_loss: 2.3794\n",
      "75:\t[0s / 0s],\t\ttrain_loss: 2.9519,\tval_loss: 2.3818\n",
      "76:\t[0s / 0s],\t\ttrain_loss: 3.3497,\tval_loss: 2.3743\n",
      "77:\t[0s / 0s],\t\ttrain_loss: 3.0724,\tval_loss: 2.3612\n",
      "78:\t[0s / 0s],\t\ttrain_loss: 2.8164,\tval_loss: 2.3584\n",
      "79:\t[0s / 0s],\t\ttrain_loss: 2.8312,\tval_loss: 2.3532\n",
      "80:\t[0s / 0s],\t\ttrain_loss: 3.0741,\tval_loss: 2.3460\n",
      "81:\t[0s / 0s],\t\ttrain_loss: 2.9204,\tval_loss: 2.3505\n",
      "82:\t[0s / 0s],\t\ttrain_loss: 2.7603,\tval_loss: 2.3540\n",
      "83:\t[0s / 0s],\t\ttrain_loss: 2.9706,\tval_loss: 2.3558\n",
      "84:\t[0s / 0s],\t\ttrain_loss: 3.0949,\tval_loss: 2.3430\n",
      "85:\t[0s / 0s],\t\ttrain_loss: 2.8747,\tval_loss: 2.3467\n",
      "86:\t[0s / 0s],\t\ttrain_loss: 2.9358,\tval_loss: 2.3334\n",
      "87:\t[0s / 0s],\t\ttrain_loss: 2.8264,\tval_loss: 2.3283\n",
      "88:\t[0s / 0s],\t\ttrain_loss: 2.7278,\tval_loss: 2.3366\n",
      "89:\t[0s / 0s],\t\ttrain_loss: 2.7511,\tval_loss: 2.3268\n",
      "90:\t[0s / 0s],\t\ttrain_loss: 3.0017,\tval_loss: 2.3204\n",
      "91:\t[0s / 0s],\t\ttrain_loss: 2.7841,\tval_loss: 2.3143\n",
      "92:\t[0s / 0s],\t\ttrain_loss: 2.9215,\tval_loss: 2.3033\n",
      "93:\t[0s / 0s],\t\ttrain_loss: 2.7592,\tval_loss: 2.3039\n",
      "94:\t[0s / 0s],\t\ttrain_loss: 2.8126,\tval_loss: 2.3036\n",
      "95:\t[0s / 0s],\t\ttrain_loss: 2.9690,\tval_loss: 2.2921\n",
      "96:\t[0s / 0s],\t\ttrain_loss: 2.8701,\tval_loss: 2.3002\n",
      "97:\t[0s / 0s],\t\ttrain_loss: 2.7937,\tval_loss: 2.2952\n",
      "98:\t[0s / 0s],\t\ttrain_loss: 2.9761,\tval_loss: 2.2896\n",
      "99:\t[0s / 0s],\t\ttrain_loss: 2.9054,\tval_loss: 2.2894\n",
      "100:\t[0s / 0s],\t\ttrain_loss: 2.9378,\tval_loss: 2.2861\n",
      "101:\t[0s / 0s],\t\ttrain_loss: 3.0226,\tval_loss: 2.2811\n",
      "102:\t[0s / 0s],\t\ttrain_loss: 2.7235,\tval_loss: 2.2775\n",
      "103:\t[0s / 0s],\t\ttrain_loss: 3.0122,\tval_loss: 2.2737\n",
      "104:\t[0s / 0s],\t\ttrain_loss: 2.8013,\tval_loss: 2.2788\n",
      "105:\t[0s / 0s],\t\ttrain_loss: 2.8684,\tval_loss: 2.2890\n",
      "106:\t[0s / 0s],\t\ttrain_loss: 2.9809,\tval_loss: 2.2713\n",
      "107:\t[0s / 0s],\t\ttrain_loss: 2.8466,\tval_loss: 2.2823\n",
      "108:\t[0s / 0s],\t\ttrain_loss: 3.2638,\tval_loss: 2.2675\n",
      "109:\t[0s / 0s],\t\ttrain_loss: 2.8726,\tval_loss: 2.2650\n",
      "110:\t[0s / 0s],\t\ttrain_loss: 2.8666,\tval_loss: 2.2600\n",
      "111:\t[0s / 1s],\t\ttrain_loss: 2.8160,\tval_loss: 2.2580\n",
      "112:\t[0s / 1s],\t\ttrain_loss: 2.8007,\tval_loss: 2.2565\n",
      "113:\t[0s / 1s],\t\ttrain_loss: 2.9899,\tval_loss: 2.2571\n",
      "114:\t[0s / 1s],\t\ttrain_loss: 2.9017,\tval_loss: 2.2567\n",
      "115:\t[0s / 1s],\t\ttrain_loss: 2.8593,\tval_loss: 2.2567\n",
      "116:\t[0s / 1s],\t\ttrain_loss: 3.0078,\tval_loss: 2.2574\n",
      "117:\t[0s / 1s],\t\ttrain_loss: 2.9927,\tval_loss: 2.2460\n",
      "118:\t[0s / 1s],\t\ttrain_loss: 2.9109,\tval_loss: 2.2493\n",
      "119:\t[0s / 1s],\t\ttrain_loss: 2.9236,\tval_loss: 2.2296\n",
      "120:\t[0s / 1s],\t\ttrain_loss: 2.8456,\tval_loss: 2.2321\n",
      "121:\t[0s / 1s],\t\ttrain_loss: 2.8536,\tval_loss: 2.2384\n",
      "122:\t[0s / 1s],\t\ttrain_loss: 2.8523,\tval_loss: 2.2354\n",
      "123:\t[0s / 1s],\t\ttrain_loss: 2.7595,\tval_loss: 2.2257\n",
      "124:\t[0s / 1s],\t\ttrain_loss: 2.8444,\tval_loss: 2.2254\n",
      "125:\t[0s / 1s],\t\ttrain_loss: 2.9512,\tval_loss: 2.2205\n",
      "126:\t[0s / 1s],\t\ttrain_loss: 2.7735,\tval_loss: 2.2055\n",
      "127:\t[0s / 1s],\t\ttrain_loss: 2.8844,\tval_loss: 2.1882\n",
      "128:\t[0s / 1s],\t\ttrain_loss: 3.0623,\tval_loss: 2.1828\n",
      "129:\t[0s / 1s],\t\ttrain_loss: 2.7970,\tval_loss: 2.1979\n",
      "130:\t[0s / 1s],\t\ttrain_loss: 2.8937,\tval_loss: 2.1995\n",
      "131:\t[0s / 1s],\t\ttrain_loss: 2.7508,\tval_loss: 2.1933\n",
      "132:\t[0s / 1s],\t\ttrain_loss: 2.8404,\tval_loss: 2.1924\n",
      "133:\t[0s / 1s],\t\ttrain_loss: 2.8516,\tval_loss: 2.2037\n",
      "134:\t[0s / 1s],\t\ttrain_loss: 2.8382,\tval_loss: 2.2080\n",
      "135:\t[0s / 1s],\t\ttrain_loss: 2.7933,\tval_loss: 2.2124\n",
      "136:\t[0s / 1s],\t\ttrain_loss: 2.8442,\tval_loss: 2.1998\n",
      "137:\t[0s / 1s],\t\ttrain_loss: 2.7538,\tval_loss: 2.2043\n",
      "138:\t[0s / 1s],\t\ttrain_loss: 3.0560,\tval_loss: 2.2103\n"
     ]
    }
   ],
   "source": [
    "epochs = 512\n",
    "callbacks = [tt.callbacks.EarlyStopping()]\n",
    "#callbacks = None\n",
    "verbose = True\n",
    "batch_size = 256\n",
    "\n",
    "log_cox = model_cox.fit(x_train, y_train, batch_size, epochs, callbacks, verbose,\n",
    "                val_data =val,  val_batch_size=batch_size)"
   ]
  },
  {
   "cell_type": "code",
   "execution_count": 23,
   "id": "87b574de",
   "metadata": {},
   "outputs": [
    {
     "data": {
      "text/plain": [
       "Text(0, 0.5, 'Loss')"
      ]
     },
     "execution_count": 23,
     "metadata": {},
     "output_type": "execute_result"
    },
    {
     "data": {
      "text/plain": [
       "<Figure size 864x864 with 0 Axes>"
      ]
     },
     "metadata": {},
     "output_type": "display_data"
    },
    {
     "data": {
      "image/png": "[encoded data removed]",
      "text/plain": [
       "<Figure size 432x288 with 1 Axes>"
      ]
     },
     "metadata": {
      "needs_background": "light"
     },
     "output_type": "display_data"
    }
   ],
   "source": [
    "#plotting the loss vs epoch \n",
    "plt.figure(figsize=[12,12])\n",
    "log_cox.plot()\n",
    "plt.xlabel('Epoch', fontsize = 16)\n",
    "plt.ylabel('Loss', fontsize = 16)"
   ]
  },
  {
   "cell_type": "code",
   "execution_count": 24,
   "id": "9e97baf6",
   "metadata": {},
   "outputs": [],
   "source": [
    "# predict for the cox model\n",
    "model_cox.compute_baseline_hazards() #baseline hazard\n",
    "surv_cox = model_cox.predict_surv_df(x_test) # survival of the test data"
   ]
  },
  {
   "cell_type": "code",
   "execution_count": 56,
   "id": "5bc8ab03-1521-4f29-b79c-01714c50c88f",
   "metadata": {},
   "outputs": [
    {
     "data": {
      "text/html": [
       "<div>\n",
       "<style scoped>\n",
       "    .dataframe tbody tr th:only-of-type {\n",
       "        vertical-align: middle;\n",
       "    }\n",
       "\n",
       "    .dataframe tbody tr th {\n",
       "        vertical-align: top;\n",
       "    }\n",
       "\n",
       "    .dataframe thead th {\n",
       "        text-align: right;\n",
       "    }\n",
       "</style>\n",
       "<table border=\"1\" class=\"dataframe\">\n",
       "  <thead>\n",
       "    <tr style=\"text-align: right;\">\n",
       "      <th></th>\n",
       "      <th>0</th>\n",
       "      <th>1</th>\n",
       "      <th>2</th>\n",
       "      <th>3</th>\n",
       "      <th>4</th>\n",
       "      <th>5</th>\n",
       "      <th>6</th>\n",
       "      <th>7</th>\n",
       "      <th>8</th>\n",
       "      <th>9</th>\n",
       "      <th>...</th>\n",
       "      <th>45</th>\n",
       "      <th>46</th>\n",
       "      <th>47</th>\n",
       "      <th>48</th>\n",
       "      <th>49</th>\n",
       "      <th>50</th>\n",
       "      <th>51</th>\n",
       "      <th>52</th>\n",
       "      <th>53</th>\n",
       "      <th>54</th>\n",
       "    </tr>\n",
       "    <tr>\n",
       "      <th>duration</th>\n",
       "      <th></th>\n",
       "      <th></th>\n",
       "      <th></th>\n",
       "      <th></th>\n",
       "      <th></th>\n",
       "      <th></th>\n",
       "      <th></th>\n",
       "      <th></th>\n",
       "      <th></th>\n",
       "      <th></th>\n",
       "      <th></th>\n",
       "      <th></th>\n",
       "      <th></th>\n",
       "      <th></th>\n",
       "      <th></th>\n",
       "      <th></th>\n",
       "      <th></th>\n",
       "      <th></th>\n",
       "      <th></th>\n",
       "      <th></th>\n",
       "      <th></th>\n",
       "    </tr>\n",
       "  </thead>\n",
       "  <tbody>\n",
       "    <tr>\n",
       "      <th>41</th>\n",
       "      <td>0.997653</td>\n",
       "      <td>0.999562</td>\n",
       "      <td>9.870106e-01</td>\n",
       "      <td>0.999439</td>\n",
       "      <td>9.737133e-01</td>\n",
       "      <td>0.999657</td>\n",
       "      <td>9.521895e-01</td>\n",
       "      <td>0.998691</td>\n",
       "      <td>0.999852</td>\n",
       "      <td>0.999606</td>\n",
       "      <td>...</td>\n",
       "      <td>0.998678</td>\n",
       "      <td>0.999340</td>\n",
       "      <td>0.999383</td>\n",
       "      <td>0.997971</td>\n",
       "      <td>0.999817</td>\n",
       "      <td>0.999303</td>\n",
       "      <td>0.996293</td>\n",
       "      <td>0.999336</td>\n",
       "      <td>0.998876</td>\n",
       "      <td>0.999905</td>\n",
       "    </tr>\n",
       "    <tr>\n",
       "      <th>51</th>\n",
       "      <td>0.994638</td>\n",
       "      <td>0.998998</td>\n",
       "      <td>9.705247e-01</td>\n",
       "      <td>0.998717</td>\n",
       "      <td>9.408639e-01</td>\n",
       "      <td>0.999216</td>\n",
       "      <td>8.939485e-01</td>\n",
       "      <td>0.997008</td>\n",
       "      <td>0.999662</td>\n",
       "      <td>0.999098</td>\n",
       "      <td>...</td>\n",
       "      <td>0.996978</td>\n",
       "      <td>0.998491</td>\n",
       "      <td>0.998589</td>\n",
       "      <td>0.995363</td>\n",
       "      <td>0.999581</td>\n",
       "      <td>0.998406</td>\n",
       "      <td>0.991538</td>\n",
       "      <td>0.998482</td>\n",
       "      <td>0.997431</td>\n",
       "      <td>0.999783</td>\n",
       "    </tr>\n",
       "    <tr>\n",
       "      <th>71</th>\n",
       "      <td>0.991537</td>\n",
       "      <td>0.998417</td>\n",
       "      <td>9.538065e-01</td>\n",
       "      <td>0.997973</td>\n",
       "      <td>9.081377e-01</td>\n",
       "      <td>0.998761</td>\n",
       "      <td>8.375983e-01</td>\n",
       "      <td>0.995274</td>\n",
       "      <td>0.999466</td>\n",
       "      <td>0.998574</td>\n",
       "      <td>...</td>\n",
       "      <td>0.995227</td>\n",
       "      <td>0.997615</td>\n",
       "      <td>0.997771</td>\n",
       "      <td>0.992680</td>\n",
       "      <td>0.999338</td>\n",
       "      <td>0.997481</td>\n",
       "      <td>0.986657</td>\n",
       "      <td>0.997601</td>\n",
       "      <td>0.995941</td>\n",
       "      <td>0.999657</td>\n",
       "    </tr>\n",
       "    <tr>\n",
       "      <th>77</th>\n",
       "      <td>0.988421</td>\n",
       "      <td>0.997831</td>\n",
       "      <td>9.372470e-01</td>\n",
       "      <td>0.997224</td>\n",
       "      <td>8.763034e-01</td>\n",
       "      <td>0.998303</td>\n",
       "      <td>7.843945e-01</td>\n",
       "      <td>0.993530</td>\n",
       "      <td>0.999268</td>\n",
       "      <td>0.998047</td>\n",
       "      <td>...</td>\n",
       "      <td>0.993465</td>\n",
       "      <td>0.996733</td>\n",
       "      <td>0.996946</td>\n",
       "      <td>0.989983</td>\n",
       "      <td>0.999093</td>\n",
       "      <td>0.996549</td>\n",
       "      <td>0.981761</td>\n",
       "      <td>0.996714</td>\n",
       "      <td>0.994443</td>\n",
       "      <td>0.999530</td>\n",
       "    </tr>\n",
       "    <tr>\n",
       "      <th>110</th>\n",
       "      <td>0.985186</td>\n",
       "      <td>0.997222</td>\n",
       "      <td>9.203061e-01</td>\n",
       "      <td>0.996444</td>\n",
       "      <td>8.443343e-01</td>\n",
       "      <td>0.997825</td>\n",
       "      <td>7.325730e-01</td>\n",
       "      <td>0.991717</td>\n",
       "      <td>0.999062</td>\n",
       "      <td>0.997497</td>\n",
       "      <td>...</td>\n",
       "      <td>0.991634</td>\n",
       "      <td>0.995816</td>\n",
       "      <td>0.996088</td>\n",
       "      <td>0.987182</td>\n",
       "      <td>0.998837</td>\n",
       "      <td>0.995580</td>\n",
       "      <td>0.976688</td>\n",
       "      <td>0.995791</td>\n",
       "      <td>0.992884</td>\n",
       "      <td>0.999398</td>\n",
       "    </tr>\n",
       "    <tr>\n",
       "      <th>...</th>\n",
       "      <td>...</td>\n",
       "      <td>...</td>\n",
       "      <td>...</td>\n",
       "      <td>...</td>\n",
       "      <td>...</td>\n",
       "      <td>...</td>\n",
       "      <td>...</td>\n",
       "      <td>...</td>\n",
       "      <td>...</td>\n",
       "      <td>...</td>\n",
       "      <td>...</td>\n",
       "      <td>...</td>\n",
       "      <td>...</td>\n",
       "      <td>...</td>\n",
       "      <td>...</td>\n",
       "      <td>...</td>\n",
       "      <td>...</td>\n",
       "      <td>...</td>\n",
       "      <td>...</td>\n",
       "      <td>...</td>\n",
       "      <td>...</td>\n",
       "    </tr>\n",
       "    <tr>\n",
       "      <th>4427</th>\n",
       "      <td>0.000361</td>\n",
       "      <td>0.228188</td>\n",
       "      <td>6.974307e-20</td>\n",
       "      <td>0.150760</td>\n",
       "      <td>9.330009e-40</td>\n",
       "      <td>0.314668</td>\n",
       "      <td>1.654951e-72</td>\n",
       "      <td>0.012061</td>\n",
       "      <td>0.607571</td>\n",
       "      <td>0.264250</td>\n",
       "      <td>...</td>\n",
       "      <td>0.011537</td>\n",
       "      <td>0.107853</td>\n",
       "      <td>0.124725</td>\n",
       "      <td>0.001057</td>\n",
       "      <td>0.539063</td>\n",
       "      <td>0.095122</td>\n",
       "      <td>0.000004</td>\n",
       "      <td>0.106424</td>\n",
       "      <td>0.022529</td>\n",
       "      <td>0.726387</td>\n",
       "    </tr>\n",
       "    <tr>\n",
       "      <th>4500</th>\n",
       "      <td>0.000361</td>\n",
       "      <td>0.228188</td>\n",
       "      <td>6.974307e-20</td>\n",
       "      <td>0.150760</td>\n",
       "      <td>9.330009e-40</td>\n",
       "      <td>0.314668</td>\n",
       "      <td>1.654951e-72</td>\n",
       "      <td>0.012061</td>\n",
       "      <td>0.607571</td>\n",
       "      <td>0.264250</td>\n",
       "      <td>...</td>\n",
       "      <td>0.011537</td>\n",
       "      <td>0.107853</td>\n",
       "      <td>0.124725</td>\n",
       "      <td>0.001057</td>\n",
       "      <td>0.539063</td>\n",
       "      <td>0.095122</td>\n",
       "      <td>0.000004</td>\n",
       "      <td>0.106424</td>\n",
       "      <td>0.022529</td>\n",
       "      <td>0.726387</td>\n",
       "    </tr>\n",
       "    <tr>\n",
       "      <th>4509</th>\n",
       "      <td>0.000361</td>\n",
       "      <td>0.228188</td>\n",
       "      <td>6.974307e-20</td>\n",
       "      <td>0.150760</td>\n",
       "      <td>9.330009e-40</td>\n",
       "      <td>0.314668</td>\n",
       "      <td>1.654951e-72</td>\n",
       "      <td>0.012061</td>\n",
       "      <td>0.607571</td>\n",
       "      <td>0.264250</td>\n",
       "      <td>...</td>\n",
       "      <td>0.011537</td>\n",
       "      <td>0.107853</td>\n",
       "      <td>0.124725</td>\n",
       "      <td>0.001057</td>\n",
       "      <td>0.539063</td>\n",
       "      <td>0.095122</td>\n",
       "      <td>0.000004</td>\n",
       "      <td>0.106424</td>\n",
       "      <td>0.022529</td>\n",
       "      <td>0.726387</td>\n",
       "    </tr>\n",
       "    <tr>\n",
       "      <th>4523</th>\n",
       "      <td>0.000361</td>\n",
       "      <td>0.228188</td>\n",
       "      <td>6.974307e-20</td>\n",
       "      <td>0.150760</td>\n",
       "      <td>9.330009e-40</td>\n",
       "      <td>0.314668</td>\n",
       "      <td>1.654951e-72</td>\n",
       "      <td>0.012061</td>\n",
       "      <td>0.607571</td>\n",
       "      <td>0.264250</td>\n",
       "      <td>...</td>\n",
       "      <td>0.011537</td>\n",
       "      <td>0.107853</td>\n",
       "      <td>0.124725</td>\n",
       "      <td>0.001057</td>\n",
       "      <td>0.539063</td>\n",
       "      <td>0.095122</td>\n",
       "      <td>0.000004</td>\n",
       "      <td>0.106424</td>\n",
       "      <td>0.022529</td>\n",
       "      <td>0.726387</td>\n",
       "    </tr>\n",
       "    <tr>\n",
       "      <th>4556</th>\n",
       "      <td>0.000361</td>\n",
       "      <td>0.228188</td>\n",
       "      <td>6.974307e-20</td>\n",
       "      <td>0.150760</td>\n",
       "      <td>9.330009e-40</td>\n",
       "      <td>0.314668</td>\n",
       "      <td>1.654951e-72</td>\n",
       "      <td>0.012061</td>\n",
       "      <td>0.607571</td>\n",
       "      <td>0.264250</td>\n",
       "      <td>...</td>\n",
       "      <td>0.011537</td>\n",
       "      <td>0.107853</td>\n",
       "      <td>0.124725</td>\n",
       "      <td>0.001057</td>\n",
       "      <td>0.539063</td>\n",
       "      <td>0.095122</td>\n",
       "      <td>0.000004</td>\n",
       "      <td>0.106424</td>\n",
       "      <td>0.022529</td>\n",
       "      <td>0.726387</td>\n",
       "    </tr>\n",
       "  </tbody>\n",
       "</table>\n",
       "<p>267 rows × 55 columns</p>\n",
       "</div>"
      ],
      "text/plain": [
       "                0         1             2         3             4         5   \\\n",
       "duration                                                                       \n",
       "41        0.997653  0.999562  9.870106e-01  0.999439  9.737133e-01  0.999657   \n",
       "51        0.994638  0.998998  9.705247e-01  0.998717  9.408639e-01  0.999216   \n",
       "71        0.991537  0.998417  9.538065e-01  0.997973  9.081377e-01  0.998761   \n",
       "77        0.988421  0.997831  9.372470e-01  0.997224  8.763034e-01  0.998303   \n",
       "110       0.985186  0.997222  9.203061e-01  0.996444  8.443343e-01  0.997825   \n",
       "...            ...       ...           ...       ...           ...       ...   \n",
       "4427      0.000361  0.228188  6.974307e-20  0.150760  9.330009e-40  0.314668   \n",
       "4500      0.000361  0.228188  6.974307e-20  0.150760  9.330009e-40  0.314668   \n",
       "4509      0.000361  0.228188  6.974307e-20  0.150760  9.330009e-40  0.314668   \n",
       "4523      0.000361  0.228188  6.974307e-20  0.150760  9.330009e-40  0.314668   \n",
       "4556      0.000361  0.228188  6.974307e-20  0.150760  9.330009e-40  0.314668   \n",
       "\n",
       "                    6         7         8         9   ...        45        46  \\\n",
       "duration                                              ...                       \n",
       "41        9.521895e-01  0.998691  0.999852  0.999606  ...  0.998678  0.999340   \n",
       "51        8.939485e-01  0.997008  0.999662  0.999098  ...  0.996978  0.998491   \n",
       "71        8.375983e-01  0.995274  0.999466  0.998574  ...  0.995227  0.997615   \n",
       "77        7.843945e-01  0.993530  0.999268  0.998047  ...  0.993465  0.996733   \n",
       "110       7.325730e-01  0.991717  0.999062  0.997497  ...  0.991634  0.995816   \n",
       "...                ...       ...       ...       ...  ...       ...       ...   \n",
       "4427      1.654951e-72  0.012061  0.607571  0.264250  ...  0.011537  0.107853   \n",
       "4500      1.654951e-72  0.012061  0.607571  0.264250  ...  0.011537  0.107853   \n",
       "4509      1.654951e-72  0.012061  0.607571  0.264250  ...  0.011537  0.107853   \n",
       "4523      1.654951e-72  0.012061  0.607571  0.264250  ...  0.011537  0.107853   \n",
       "4556      1.654951e-72  0.012061  0.607571  0.264250  ...  0.011537  0.107853   \n",
       "\n",
       "                47        48        49        50        51        52  \\\n",
       "duration                                                               \n",
       "41        0.999383  0.997971  0.999817  0.999303  0.996293  0.999336   \n",
       "51        0.998589  0.995363  0.999581  0.998406  0.991538  0.998482   \n",
       "71        0.997771  0.992680  0.999338  0.997481  0.986657  0.997601   \n",
       "77        0.996946  0.989983  0.999093  0.996549  0.981761  0.996714   \n",
       "110       0.996088  0.987182  0.998837  0.995580  0.976688  0.995791   \n",
       "...            ...       ...       ...       ...       ...       ...   \n",
       "4427      0.124725  0.001057  0.539063  0.095122  0.000004  0.106424   \n",
       "4500      0.124725  0.001057  0.539063  0.095122  0.000004  0.106424   \n",
       "4509      0.124725  0.001057  0.539063  0.095122  0.000004  0.106424   \n",
       "4523      0.124725  0.001057  0.539063  0.095122  0.000004  0.106424   \n",
       "4556      0.124725  0.001057  0.539063  0.095122  0.000004  0.106424   \n",
       "\n",
       "                53        54  \n",
       "duration                      \n",
       "41        0.998876  0.999905  \n",
       "51        0.997431  0.999783  \n",
       "71        0.995941  0.999657  \n",
       "77        0.994443  0.999530  \n",
       "110       0.992884  0.999398  \n",
       "...            ...       ...  \n",
       "4427      0.022529  0.726387  \n",
       "4500      0.022529  0.726387  \n",
       "4509      0.022529  0.726387  \n",
       "4523      0.022529  0.726387  \n",
       "4556      0.022529  0.726387  \n",
       "\n",
       "[267 rows x 55 columns]"
      ]
     },
     "execution_count": 56,
     "metadata": {},
     "output_type": "execute_result"
    }
   ],
   "source": [
    "surv_cox"
   ]
  },
  {
   "cell_type": "code",
   "execution_count": 25,
   "id": "f0eff885",
   "metadata": {},
   "outputs": [],
   "source": [
    "surv_cox.to_csv('Predict _survival')"
   ]
  },
  {
   "cell_type": "code",
   "execution_count": 26,
   "id": "386a3b41",
   "metadata": {},
   "outputs": [
    {
     "data": {
      "text/plain": [
       "<matplotlib.legend.Legend at 0x227b18f1f10>"
      ]
     },
     "execution_count": 26,
     "metadata": {},
     "output_type": "execute_result"
    },
    {
     "data": {
      "image/png": "[encoded data removed]",
      "text/plain": [
       "<Figure size 864x720 with 1 Axes>"
      ]
     },
     "metadata": {
      "needs_background": "light"
     },
     "output_type": "display_data"
    }
   ],
   "source": [
    "# plotting for few outputs\n",
    "plt.figure(figsize=[12,10])\n",
    "plt.subplot(121)\n",
    "plt.plot(surv_cox.iloc[:, :6])\n",
    "plt.xlabel('Time', fontsize = 16)\n",
    "plt.ylabel('Status' , fontsize = 16)\n",
    "plt.legend(range(len(surv_cox.iloc[:, :20])))"
   ]
  },
  {
   "cell_type": "code",
   "execution_count": 27,
   "id": "a7d025d5",
   "metadata": {},
   "outputs": [],
   "source": [
    "# evaluate the c-index of the cox model \n",
    "eval_cox = EvalSurv(surv_cox, time_test, status_test, censor_surv= 'km')\n",
    "cox_index = eval_cox.concordance_td() "
   ]
  },
  {
   "cell_type": "code",
   "execution_count": 28,
   "id": "5842fef5",
   "metadata": {},
   "outputs": [
    {
     "data": {
      "text/plain": [
       "0.7151515151515152"
      ]
     },
     "execution_count": 28,
     "metadata": {},
     "output_type": "execute_result"
    }
   ],
   "source": [
    "cox_index "
   ]
  },
  {
   "cell_type": "markdown",
   "id": "497b70ac",
   "metadata": {},
   "source": [
    "## Model DEEP HIT\n"
   ]
  },
  {
   "cell_type": "code",
   "execution_count": 29,
   "id": "d4bbc605",
   "metadata": {},
   "outputs": [],
   "source": [
    "from pycox.models import DeepHit\n",
    "from pycox.preprocessing import label_transforms, discretization\n"
   ]
  },
  {
   "cell_type": "code",
   "execution_count": 30,
   "id": "96eed274",
   "metadata": {},
   "outputs": [],
   "source": [
    "# building the net\n",
    "class CauseSpecificNet(torch.nn.Module):\n",
    "    \"\"\"Network structure similar to the DeepHit paper, but without the residual\n",
    "    connections (for simplicity).\n",
    "    \"\"\"\n",
    "    def __init__(self, in_features, num_nodes_shared, num_nodes_indiv, num_risks,\n",
    "                 out_features, batch_norm=True, dropout=None):\n",
    "        super().__init__()\n",
    "        self.shared_net = tt.practical.MLPVanilla(\n",
    "            in_features, num_nodes_shared[:-1], num_nodes_shared[-1],\n",
    "            batch_norm, dropout,\n",
    "        )\n",
    "        self.risk_nets = torch.nn.ModuleList()\n",
    "        for _ in range(num_risks):\n",
    "            net = tt.practical.MLPVanilla(\n",
    "                num_nodes_shared[-1], num_nodes_indiv, out_features,\n",
    "                batch_norm, dropout,\n",
    "            )\n",
    "            self.risk_nets.append(net)\n",
    "\n",
    "    def forward(self, input):\n",
    "        out = self.shared_net(input)\n",
    "        out = [net(out) for net in self.risk_nets]\n",
    "        out = torch.stack(out, dim=1)\n",
    "        return out"
   ]
  },
  {
   "cell_type": "code",
   "execution_count": 31,
   "id": "1645625b",
   "metadata": {},
   "outputs": [],
   "source": [
    "from pycox.preprocessing.label_transforms import LabTransDiscreteTime\n",
    "class LabTransform(LabTransDiscreteTime):\n",
    "    def transform(self, durations, events):\n",
    "        durations, is_event = super().transform(durations, events > 0)\n",
    "        events[is_event == 0] = 0\n",
    "        return durations, events.astype('int64')"
   ]
  },
  {
   "cell_type": "code",
   "execution_count": 32,
   "id": "b9b5938c",
   "metadata": {},
   "outputs": [],
   "source": [
    "# transforming y variables\n",
    "num_durations = 10\n",
    "labtrans = LabTransform(num_durations)\n",
    "\n",
    "get_target = lambda df: (df['duration'].values, df['event'].values)\n",
    "y_train_i = labtrans.fit_transform(*Y(data_train)) # y_train transformed\n",
    "y_val_i = labtrans.transform(*Y(data_val)) #Y_val transformed\n",
    "\n",
    "train = (x_train, y_train_i) # training data with transformed y \n",
    "val_i = (x_val, y_val_i)\n",
    "\n",
    "# We don't need to transform the test labels\n",
    "time_test, status_test = Y(data_test)"
   ]
  },
  {
   "cell_type": "code",
   "execution_count": 33,
   "id": "9d25f6a8",
   "metadata": {},
   "outputs": [],
   "source": [
    "in_features = x_train.shape[1]\n",
    "num_nodes_shared = [64, 64]\n",
    "num_nodes_indiv = [32]\n",
    "num_risks = int(y_train[1].max())\n",
    "out_features = len(labtrans.cuts)\n",
    "batch_norm = True\n",
    "dropout = 0.1\n",
    "\n",
    "# net = SimpleMLP(in_features, num_nodes_shared, num_risks, out_features)\n",
    "net_ = CauseSpecificNet(in_features, num_nodes_shared, num_nodes_indiv, num_risks,\n",
    "                       out_features, batch_norm, dropout)"
   ]
  },
  {
   "cell_type": "code",
   "execution_count": 34,
   "id": "06979cba",
   "metadata": {},
   "outputs": [],
   "source": [
    "optimizer = tt.optim.AdamWR(lr=0.01, decoupled_weight_decay=0.01,\n",
    "                            cycle_eta_multiplier=0.8)\n",
    "model_deep = DeepHit(net_, optimizer, alpha=0.2, sigma=0.1,\n",
    "                duration_index=labtrans.cuts)"
   ]
  },
  {
   "cell_type": "code",
   "execution_count": 35,
   "id": "272226e9",
   "metadata": {},
   "outputs": [],
   "source": [
    "epochs = 512\n",
    "batch_size = 256\n",
    "callbacks = [tt.callbacks.EarlyStoppingCycle()]\n",
    "verbose = False # set to True if you want printout"
   ]
  },
  {
   "cell_type": "code",
   "execution_count": 36,
   "id": "59677354",
   "metadata": {},
   "outputs": [
    {
     "name": "stderr",
     "output_type": "stream",
     "text": [
      "C:\\Users\\user\\anaconda3\\lib\\site-packages\\torchtuples\\callbacks.py:607: UserWarning: This overload of add is deprecated:\n",
      "\tadd(Number alpha, Tensor other)\n",
      "Consider using one of the following signatures instead:\n",
      "\tadd(Tensor other, *, Number alpha) (Triggered internally at  ..\\torch\\csrc\\utils\\python_arg_parser.cpp:1025.)\n",
      "  p.data = p.data.add(-weight_decay * eta, p.data)\n"
     ]
    }
   ],
   "source": [
    "#log_deep = model_deep.fit(x_train, y_train, batch_size, epochs, callbacks, verbose, val_data=val)\n",
    "log_deep = model_deep.fit(x_train, y_train_i, batch_size, epochs, callbacks, verbose, val_data=val_i)"
   ]
  },
  {
   "cell_type": "code",
   "execution_count": 37,
   "id": "01d2bf03",
   "metadata": {},
   "outputs": [
    {
     "data": {
      "text/plain": [
       "<AxesSubplot:>"
      ]
     },
     "execution_count": 37,
     "metadata": {},
     "output_type": "execute_result"
    },
    {
     "data": {
      "image/png": "[encoded data removed]",
      "text/plain": [
       "<Figure size 432x288 with 1 Axes>"
      ]
     },
     "metadata": {
      "needs_background": "light"
     },
     "output_type": "display_data"
    }
   ],
   "source": [
    "#\n",
    "log_deep.plot()"
   ]
  },
  {
   "cell_type": "code",
   "execution_count": 38,
   "id": "715cef6b",
   "metadata": {},
   "outputs": [],
   "source": [
    "# to predict\n",
    "surv_deep = model_deep.predict_surv_df(x_test)\n",
    "surv_deep.to_csv('Survival DeepHit')"
   ]
  },
  {
   "cell_type": "code",
   "execution_count": 39,
   "id": "81badab4",
   "metadata": {},
   "outputs": [],
   "source": [
    "# to evaluate\n",
    "eval_deep = EvalSurv(surv_deep, time_test, status_test , censor_surv='km')"
   ]
  },
  {
   "cell_type": "code",
   "execution_count": 40,
   "id": "5cfbaded",
   "metadata": {},
   "outputs": [
    {
     "data": {
      "text/plain": [
       "0.4727272727272727"
      ]
     },
     "execution_count": 40,
     "metadata": {},
     "output_type": "execute_result"
    }
   ],
   "source": [
    "# c -index\n",
    "c_index_deep = eval_deep.concordance_td()\n",
    "c_index_deep"
   ]
  },
  {
   "cell_type": "markdown",
   "id": "592d1412",
   "metadata": {},
   "source": [
    "## Predict min, median and max age"
   ]
  },
  {
   "cell_type": "code",
   "execution_count": 41,
   "id": "a999cbff",
   "metadata": {},
   "outputs": [
    {
     "data": {
      "text/plain": [
       "(49.709787816564, 26.2778918548939, 78.4394250513347)"
      ]
     },
     "execution_count": 41,
     "metadata": {},
     "output_type": "execute_result"
    }
   ],
   "source": [
    "np.median(df['age']), np.min(df['age']), np.max(df['age'])"
   ]
  },
  {
   "cell_type": "code",
   "execution_count": 42,
   "id": "1ab11a9b",
   "metadata": {
    "scrolled": true
   },
   "outputs": [],
   "source": [
    "### rslt_df = dataframe[dataframe['Percentage'] > 80]\n",
    "min_age = df_new.loc[df_new['age'] == 26.2778918548939]\n",
    "max_age = df_new.loc[df_new['age'] == 78.4394250513347]\n",
    "median_age =df_new.loc[(df_new['age'] ==49.5605749486653 )]"
   ]
  },
  {
   "cell_type": "code",
   "execution_count": 81,
   "id": "02783cf4",
   "metadata": {},
   "outputs": [
    {
     "data": {
      "text/html": [
       "<div>\n",
       "<style scoped>\n",
       "    .dataframe tbody tr th:only-of-type {\n",
       "        vertical-align: middle;\n",
       "    }\n",
       "\n",
       "    .dataframe tbody tr th {\n",
       "        vertical-align: top;\n",
       "    }\n",
       "\n",
       "    .dataframe thead th {\n",
       "        text-align: right;\n",
       "    }\n",
       "</style>\n",
       "<table border=\"1\" class=\"dataframe\">\n",
       "  <thead>\n",
       "    <tr style=\"text-align: right;\">\n",
       "      <th></th>\n",
       "      <th>id</th>\n",
       "      <th>time</th>\n",
       "      <th>status</th>\n",
       "      <th>trt</th>\n",
       "      <th>age</th>\n",
       "      <th>sex</th>\n",
       "      <th>ascites</th>\n",
       "      <th>hepato</th>\n",
       "      <th>spiders</th>\n",
       "      <th>edema</th>\n",
       "      <th>bili</th>\n",
       "      <th>chol</th>\n",
       "      <th>albumin</th>\n",
       "      <th>copper</th>\n",
       "      <th>alk.phos</th>\n",
       "      <th>ast</th>\n",
       "      <th>trig</th>\n",
       "      <th>platelet</th>\n",
       "      <th>protime</th>\n",
       "      <th>stage</th>\n",
       "    </tr>\n",
       "  </thead>\n",
       "  <tbody>\n",
       "    <tr>\n",
       "      <th>18</th>\n",
       "      <td>19</td>\n",
       "      <td>4232</td>\n",
       "      <td>0</td>\n",
       "      <td>1.0</td>\n",
       "      <td>49.560575</td>\n",
       "      <td>0</td>\n",
       "      <td>0.0</td>\n",
       "      <td>1.0</td>\n",
       "      <td>0.0</td>\n",
       "      <td>0.5</td>\n",
       "      <td>0.7</td>\n",
       "      <td>235.0</td>\n",
       "      <td>3.56</td>\n",
       "      <td>39.0</td>\n",
       "      <td>1881.0</td>\n",
       "      <td>93.0</td>\n",
       "      <td>123.0</td>\n",
       "      <td>209.0</td>\n",
       "      <td>11.0</td>\n",
       "      <td>3.0</td>\n",
       "    </tr>\n",
       "  </tbody>\n",
       "</table>\n",
       "</div>"
      ],
      "text/plain": [
       "    id  time  status  trt        age  sex  ascites  hepato  spiders  edema  \\\n",
       "18  19  4232       0  1.0  49.560575    0      0.0     1.0      0.0    0.5   \n",
       "\n",
       "    bili   chol  albumin  copper  alk.phos   ast   trig  platelet  protime  \\\n",
       "18   0.7  235.0     3.56    39.0    1881.0  93.0  123.0     209.0     11.0   \n",
       "\n",
       "    stage  \n",
       "18    3.0  "
      ]
     },
     "execution_count": 81,
     "metadata": {},
     "output_type": "execute_result"
    }
   ],
   "source": [
    "median_age "
   ]
  },
  {
   "cell_type": "code",
   "execution_count": 82,
   "id": "5b35aca8",
   "metadata": {},
   "outputs": [],
   "source": [
    "# convert data to float\n",
    "max_age_x = X_map.fit_transform(max_age).astype('float32') \n",
    "min_age_x = X_map.fit_transform(min_age).astype('float32')\n",
    "median_age_x = X_map.fit_transform(median_age).astype('float32')\n"
   ]
  },
  {
   "cell_type": "markdown",
   "id": "a4720415",
   "metadata": {},
   "source": [
    "## COX MODEL"
   ]
  },
  {
   "cell_type": "code",
   "execution_count": 83,
   "id": "4a66c30f",
   "metadata": {},
   "outputs": [],
   "source": [
    "# predict for each of the age group\n",
    "model_cox.compute_baseline_hazards()\n",
    "surv_max_cox = model_cox.predict_surv_df(max_age_x ) # max\n",
    "surv_min_cox = model_cox.predict_surv_df(min_age_x ) # min\n",
    "surv_med_cox = model_cox.predict_surv_df(median_age_x ) # median\n",
    "\n",
    "max_time, max_status = Y(max_age)\n",
    "min_time, min_status = Y(min_age)\n",
    "median_time, median_status = Y(median_age)\n"
   ]
  },
  {
   "cell_type": "code",
   "execution_count": 72,
   "id": "cbfaa12d-c65c-4536-a8a9-8a52168d0a14",
   "metadata": {},
   "outputs": [
    {
     "data": {
      "text/plain": [
       "(array([1765], dtype=int64), array([0], dtype=int64))"
      ]
     },
     "execution_count": 72,
     "metadata": {},
     "output_type": "execute_result"
    }
   ],
   "source": [
    "max_time, max_status"
   ]
  },
  {
   "cell_type": "code",
   "execution_count": 67,
   "id": "806951ef-12da-45a8-839a-bc19381db7ea",
   "metadata": {},
   "outputs": [
    {
     "data": {
      "text/plain": [
       "<AxesSubplot:xlabel='duration'>"
      ]
     },
     "execution_count": 67,
     "metadata": {},
     "output_type": "execute_result"
    },
    {
     "data": {
      "image/png": "[encoded data removed]",
      "text/plain": [
       "<Figure size 432x288 with 1 Axes>"
      ]
     },
     "metadata": {
      "needs_background": "light"
     },
     "output_type": "display_data"
    }
   ],
   "source": [
    "surv_min_cox.plot()"
   ]
  },
  {
   "cell_type": "code",
   "execution_count": null,
   "id": "8e53a751-ee6f-41ff-8179-160f7b1fc313",
   "metadata": {},
   "outputs": [],
   "source": [
    "surv"
   ]
  },
  {
   "cell_type": "code",
   "execution_count": 88,
   "id": "62b96b68",
   "metadata": {},
   "outputs": [],
   "source": [
    "# evaluate survival prediction for each of the age group\n",
    "eval_cox_max = EvalSurv(surv_max_cox, max_time, max_status ) # max\n",
    "eval_cox_min = EvalSurv(surv_min_cox, min_time,min_status ) # min\n",
    "eval_cox_med = EvalSurv(surv_med_cox, median_time, median_status) # median"
   ]
  },
  {
   "cell_type": "code",
   "execution_count": 89,
   "id": "4dd47193",
   "metadata": {},
   "outputs": [
    {
     "ename": "ZeroDivisionError",
     "evalue": "float division by zero",
     "output_type": "error",
     "traceback": [
      "\u001b[1;31m---------------------------------------------------------------------------\u001b[0m",
      "\u001b[1;31mZeroDivisionError\u001b[0m                         Traceback (most recent call last)",
      "\u001b[1;32m<ipython-input-89-6b65b9498eed>\u001b[0m in \u001b[0;36m<module>\u001b[1;34m\u001b[0m\n\u001b[0;32m      1\u001b[0m \u001b[1;31m# c-index for each of the age group\u001b[0m\u001b[1;33m\u001b[0m\u001b[1;33m\u001b[0m\u001b[1;33m\u001b[0m\u001b[0m\n\u001b[1;32m----> 2\u001b[1;33m \u001b[0mcox_max_index\u001b[0m \u001b[1;33m=\u001b[0m \u001b[0meval_cox_max\u001b[0m\u001b[1;33m.\u001b[0m\u001b[0mconcordance_td\u001b[0m\u001b[1;33m(\u001b[0m\u001b[0mmethod\u001b[0m\u001b[1;33m=\u001b[0m\u001b[1;34m'antolini'\u001b[0m\u001b[1;33m)\u001b[0m\u001b[1;33m\u001b[0m\u001b[1;33m\u001b[0m\u001b[0m\n\u001b[0m\u001b[0;32m      3\u001b[0m \u001b[0mcox_min_index\u001b[0m \u001b[1;33m=\u001b[0m \u001b[0meval_cox_min\u001b[0m\u001b[1;33m.\u001b[0m\u001b[0mconcordance_td\u001b[0m\u001b[1;33m(\u001b[0m\u001b[1;33m)\u001b[0m\u001b[1;33m\u001b[0m\u001b[1;33m\u001b[0m\u001b[0m\n\u001b[0;32m      4\u001b[0m \u001b[0mcox_med_index\u001b[0m \u001b[1;33m=\u001b[0m \u001b[0meval_cox_med\u001b[0m\u001b[1;33m.\u001b[0m\u001b[0mconcordance_td\u001b[0m\u001b[1;33m(\u001b[0m\u001b[1;33m)\u001b[0m\u001b[1;33m\u001b[0m\u001b[1;33m\u001b[0m\u001b[0m\n",
      "\u001b[1;32m~\\anaconda3\\lib\\site-packages\\pycox\\evaluation\\eval_surv.py\u001b[0m in \u001b[0;36mconcordance_td\u001b[1;34m(self, method)\u001b[0m\n\u001b[0;32m    188\u001b[0m             \u001b[0mfloat\u001b[0m \u001b[1;33m-\u001b[0m\u001b[1;33m-\u001b[0m \u001b[0mTime\u001b[0m \u001b[0mdependent\u001b[0m \u001b[0mconcordance\u001b[0m \u001b[0mindex\u001b[0m\u001b[1;33m.\u001b[0m\u001b[1;33m\u001b[0m\u001b[1;33m\u001b[0m\u001b[0m\n\u001b[0;32m    189\u001b[0m         \"\"\"\n\u001b[1;32m--> 190\u001b[1;33m         return concordance_td(self.durations, self.events, self.surv.values,\n\u001b[0m\u001b[0;32m    191\u001b[0m                               self._duration_idx(), method)\n\u001b[0;32m    192\u001b[0m \u001b[1;33m\u001b[0m\u001b[0m\n",
      "\u001b[1;32m~\\anaconda3\\lib\\site-packages\\pycox\\evaluation\\concordance.py\u001b[0m in \u001b[0;36mconcordance_td\u001b[1;34m(durations, events, surv, surv_idx, method)\u001b[0m\n\u001b[0;32m    103\u001b[0m         \u001b[0mis_concordant\u001b[0m \u001b[1;33m=\u001b[0m \u001b[0m_is_concordant_antolini\u001b[0m\u001b[1;33m\u001b[0m\u001b[1;33m\u001b[0m\u001b[0m\n\u001b[0;32m    104\u001b[0m         \u001b[0mis_comparable\u001b[0m \u001b[1;33m=\u001b[0m \u001b[0m_is_comparable_antolini\u001b[0m\u001b[1;33m\u001b[0m\u001b[1;33m\u001b[0m\u001b[0m\n\u001b[1;32m--> 105\u001b[1;33m         return (_sum_concordant_disc(surv, durations, events, surv_idx, is_concordant) /\n\u001b[0m\u001b[0;32m    106\u001b[0m                 _sum_comparable(durations, events, is_comparable))\n\u001b[0;32m    107\u001b[0m     \u001b[1;32mreturn\u001b[0m \u001b[0mValueError\u001b[0m\u001b[1;33m(\u001b[0m\u001b[1;34mf\"Need 'method' to be e.g. 'antolini', got '{method}'.\"\u001b[0m\u001b[1;33m)\u001b[0m\u001b[1;33m\u001b[0m\u001b[1;33m\u001b[0m\u001b[0m\n",
      "\u001b[1;31mZeroDivisionError\u001b[0m: float division by zero"
     ]
    }
   ],
   "source": [
    "# c-index for each of the age group\n",
    "cox_max_index = eval_cox_max.concordance_td(method='antolini')\n",
    "cox_min_index = eval_cox_min.concordance_td()\n",
    "cox_med_index = eval_cox_med.concordance_td()\n"
   ]
  },
  {
   "cell_type": "markdown",
   "id": "4c9f3ff1",
   "metadata": {},
   "source": [
    "# DeepHIt"
   ]
  },
  {
   "cell_type": "code",
   "execution_count": 61,
   "id": "bc39dcf6",
   "metadata": {},
   "outputs": [],
   "source": [
    "# predict for each of the age group\n",
    "surv_max_deep = model_deep.predict_surv_df(max_age_x ) # max\n",
    "surv_min_deep = model_deep.predict_surv_df(min_age_x ) # min\n",
    "surv_med_deep = model_deep.predict_surv_df(median_age_x ) # median"
   ]
  },
  {
   "cell_type": "code",
   "execution_count": 62,
   "id": "229c4970",
   "metadata": {},
   "outputs": [],
   "source": [
    "# evaluate survival prediction for each of the age group\n",
    "# evaluate survival prediction for each of the age group\n",
    "eval_deep_max = EvalSurv(surv_max_deep, max_time, max_status, censor_surv='km') # max\n",
    "eval_deep_min = EvalSurv(surv_max_deep, min_time,min_status ) # min\n",
    "eval_deep_med = EvalSurv(surv_max_deep, median_time, median_status) # median"
   ]
  },
  {
   "cell_type": "code",
   "execution_count": 63,
   "id": "2a9654a2",
   "metadata": {},
   "outputs": [
    {
     "ename": "ZeroDivisionError",
     "evalue": "float division by zero",
     "output_type": "error",
     "traceback": [
      "\u001b[1;31m---------------------------------------------------------------------------\u001b[0m",
      "\u001b[1;31mZeroDivisionError\u001b[0m                         Traceback (most recent call last)",
      "\u001b[1;32m<ipython-input-63-6e80b01e822b>\u001b[0m in \u001b[0;36m<module>\u001b[1;34m\u001b[0m\n\u001b[0;32m      1\u001b[0m \u001b[1;31m# c-index for each of the age group\u001b[0m\u001b[1;33m\u001b[0m\u001b[1;33m\u001b[0m\u001b[1;33m\u001b[0m\u001b[0m\n\u001b[1;32m----> 2\u001b[1;33m \u001b[0mdeep_max_index\u001b[0m \u001b[1;33m=\u001b[0m \u001b[0meval_deep_max\u001b[0m\u001b[1;33m.\u001b[0m\u001b[0mconcordance_td\u001b[0m\u001b[1;33m(\u001b[0m\u001b[1;33m)\u001b[0m\u001b[1;33m\u001b[0m\u001b[1;33m\u001b[0m\u001b[0m\n\u001b[0m\u001b[0;32m      3\u001b[0m \u001b[0mdeep_min_index\u001b[0m \u001b[1;33m=\u001b[0m \u001b[0meval_deep_min\u001b[0m\u001b[1;33m.\u001b[0m\u001b[0mconcordance_td\u001b[0m\u001b[1;33m(\u001b[0m\u001b[1;33m)\u001b[0m\u001b[1;33m\u001b[0m\u001b[1;33m\u001b[0m\u001b[0m\n\u001b[0;32m      4\u001b[0m \u001b[0mdeep_med_index\u001b[0m \u001b[1;33m=\u001b[0m \u001b[0meval_deep_med\u001b[0m\u001b[1;33m.\u001b[0m\u001b[0mconcordance_td\u001b[0m\u001b[1;33m(\u001b[0m\u001b[1;33m)\u001b[0m\u001b[1;33m\u001b[0m\u001b[1;33m\u001b[0m\u001b[0m\n",
      "\u001b[1;32m~\\anaconda3\\lib\\site-packages\\pycox\\evaluation\\eval_surv.py\u001b[0m in \u001b[0;36mconcordance_td\u001b[1;34m(self, method)\u001b[0m\n\u001b[0;32m    188\u001b[0m             \u001b[0mfloat\u001b[0m \u001b[1;33m-\u001b[0m\u001b[1;33m-\u001b[0m \u001b[0mTime\u001b[0m \u001b[0mdependent\u001b[0m \u001b[0mconcordance\u001b[0m \u001b[0mindex\u001b[0m\u001b[1;33m.\u001b[0m\u001b[1;33m\u001b[0m\u001b[1;33m\u001b[0m\u001b[0m\n\u001b[0;32m    189\u001b[0m         \"\"\"\n\u001b[1;32m--> 190\u001b[1;33m         return concordance_td(self.durations, self.events, self.surv.values,\n\u001b[0m\u001b[0;32m    191\u001b[0m                               self._duration_idx(), method)\n\u001b[0;32m    192\u001b[0m \u001b[1;33m\u001b[0m\u001b[0m\n",
      "\u001b[1;32m~\\anaconda3\\lib\\site-packages\\pycox\\evaluation\\concordance.py\u001b[0m in \u001b[0;36mconcordance_td\u001b[1;34m(durations, events, surv, surv_idx, method)\u001b[0m\n\u001b[0;32m     98\u001b[0m         \u001b[0mis_concordant\u001b[0m \u001b[1;33m=\u001b[0m \u001b[0m_is_concordant\u001b[0m\u001b[1;33m\u001b[0m\u001b[1;33m\u001b[0m\u001b[0m\n\u001b[0;32m     99\u001b[0m         \u001b[0mis_comparable\u001b[0m \u001b[1;33m=\u001b[0m \u001b[0m_is_comparable\u001b[0m\u001b[1;33m\u001b[0m\u001b[1;33m\u001b[0m\u001b[0m\n\u001b[1;32m--> 100\u001b[1;33m         return (_sum_concordant_disc(surv, durations, events, surv_idx, is_concordant) /\n\u001b[0m\u001b[0;32m    101\u001b[0m                 _sum_comparable(durations, events, is_comparable))\n\u001b[0;32m    102\u001b[0m     \u001b[1;32melif\u001b[0m \u001b[0mmethod\u001b[0m \u001b[1;33m==\u001b[0m \u001b[1;34m'antolini'\u001b[0m\u001b[1;33m:\u001b[0m\u001b[1;33m\u001b[0m\u001b[1;33m\u001b[0m\u001b[0m\n",
      "\u001b[1;31mZeroDivisionError\u001b[0m: float division by zero"
     ]
    }
   ],
   "source": [
    "# c-index for each of the age group\n",
    "deep_max_index = eval_deep_max.concordance_td()\n",
    "deep_min_index = eval_deep_min.concordance_td()\n",
    "deep_med_index = eval_deep_med.concordance_td()"
   ]
  },
  {
   "cell_type": "code",
   "execution_count": 64,
   "id": "e8e8f60b",
   "metadata": {},
   "outputs": [
    {
     "data": {
      "text/plain": [
       "<matplotlib.legend.Legend at 0x227b79eb700>"
      ]
     },
     "execution_count": 64,
     "metadata": {},
     "output_type": "execute_result"
    },
    {
     "data": {
      "image/png": "[encoded data removed]",
      "text/plain": [
       "<Figure size 1152x864 with 3 Axes>"
      ]
     },
     "metadata": {
      "needs_background": "light"
     },
     "output_type": "display_data"
    }
   ],
   "source": [
    "plt.figure(figsize=[16,12])\n",
    "plt.subplot(221)\n",
    "plt.plot(surv_max_cox)\n",
    "plt.plot(surv_max_deep )\n",
    "plt.xlabel('Time', fontsize = 30)\n",
    "plt.ylabel('Survival probability', fontsize = 16)\n",
    "plt.title('Probability of survival of maximum age', fontsize = 14)\n",
    "plt.legend(['PHCox', 'DeepHit'])\n",
    "\n",
    "plt.subplot(222)\n",
    "plt.plot(surv_min_cox)\n",
    "plt.plot(surv_min_deep )\n",
    "plt.xlabel('Time', fontsize = 30)\n",
    "plt.ylabel('Survival probability', fontsize = 16)\n",
    "plt.title('Probability of survival of minimum age', fontsize = 14)\n",
    "plt.legend(['PHCox', 'DeepHit'])\n",
    "\n",
    "plt.subplot(223)\n",
    "plt.plot(surv_med_cox)\n",
    "plt.plot(surv_med_deep )\n",
    "plt.xlabel('Time', fontsize = 30)\n",
    "plt.ylabel('Survival probability', fontsize = 16)\n",
    "plt.title('Probability of survival of median age', fontsize = 14)\n",
    "plt.legend(['PHCox', 'DeepHit'])"
   ]
  },
  {
   "cell_type": "markdown",
   "id": "a4eff3de",
   "metadata": {},
   "source": [
    "# STIMULATED AT DIFFERENT CENSOR RATE"
   ]
  },
  {
   "cell_type": "code",
   "execution_count": null,
   "id": "cc316ea9",
   "metadata": {
    "scrolled": true
   },
   "outputs": [],
   "source": [
    "from pycox.simulations import base \n",
    "from pycox.simulations import discrete_logit_hazard , relative_risk, SimStudyLinearPH, SimStudySACCensorConst\n"
   ]
  },
  {
   "cell_type": "code",
   "execution_count": null,
   "id": "6fb517f5",
   "metadata": {},
   "outputs": [],
   "source": [
    "#Different censoring rate\n",
    "a1 = SimStudyLinearPH(c0 = 1) # 1%\n",
    "a25 = SimStudyLinearPH(c0 = 25) # 25 %\n",
    "a50 = SimStudyLinearPH(c0 = 50) # 50%\n",
    "a75= SimStudyLinearPH(c0 = 75) # 75%\n",
    "a100= SimStudyLinearPH(c0 = 99) # 99%"
   ]
  },
  {
   "cell_type": "code",
   "execution_count": null,
   "id": "dd258b76",
   "metadata": {},
   "outputs": [],
   "source": [
    "#function to create simulated \n",
    "def data_pre(var):\n",
    "    # dataframe from the simulation\n",
    "    data = var.dict2df(var.simulate(1000))\n",
    "    train = data\n",
    "    test = data.sample(frac=0.2)\n",
    "    val= data.sample(frac=0.2)\n",
    "    return train, test, val\n",
    "\n"
   ]
  },
  {
   "cell_type": "code",
   "execution_count": null,
   "id": "ca6a3c9d",
   "metadata": {},
   "outputs": [],
   "source": [
    "# function to standardize X \n",
    "def stand_data(data):\n",
    "    # data is dataframe to standardize\n",
    "    Y= lambda data: (data['duration'].values, data['event'].values)\n",
    "\n",
    "    # to standardize and get dependent variables \n",
    "    X= ['x0', 'x1', 'x2', 'duration_true', 'event_true',\n",
    "       'censoring_true'] # list of variables for standardization\n",
    "\n",
    "    standardize_sim = [([sim], StandardScaler()) for sim in X] #standardize function \n",
    "    \n",
    "\n",
    "    X_map_sim = DataFrameMapper(standardize_sim)\n",
    "    x = X_map_sim.fit_transform(data).astype('float32') # x simulate data\n",
    "    \n",
    "    y = Y(data) # y variables\n",
    "    return x, y\n"
   ]
  },
  {
   "cell_type": "code",
   "execution_count": null,
   "id": "ba67fe96",
   "metadata": {},
   "outputs": [],
   "source": [
    "# function to create neural network\n",
    "def arch_net (x_data):\n",
    "    # x_data x dataframe\n",
    "    in_features = x_data.shape[1]\n",
    "    num_nodes = [32, 32]\n",
    "    out_features = 1\n",
    "    batch_norm = True\n",
    "    dropout = 0.1\n",
    "    output_bias = False\n",
    "\n",
    "    net = tt.practical.MLPVanilla(in_features, num_nodes, out_features, batch_norm,\n",
    "                                  dropout, output_bias=output_bias)\n",
    "    return net\n"
   ]
  },
  {
   "cell_type": "code",
   "execution_count": null,
   "id": "62e18777",
   "metadata": {},
   "outputs": [],
   "source": [
    "# 1%\n",
    "df_train_1, df_test_1, df_val_1 = data_pre(a1)"
   ]
  },
  {
   "cell_type": "code",
   "execution_count": null,
   "id": "64c359c6",
   "metadata": {},
   "outputs": [],
   "source": [
    "x_train_50 , y_train_50 = stand_data(df_train_50)\n",
    "x_test_50 = stand_data(df_test_50)[0] # x test \n",
    "duration_test_50, event_test_50 = stand_data(df_test_50)[1] #y _test\n",
    "val_50 = stand_data(df_val_50)"
   ]
  },
  {
   "cell_type": "code",
   "execution_count": null,
   "id": "20a40e38",
   "metadata": {},
   "outputs": [],
   "source": [
    "# net for 50%\n",
    "net_50 = arch_net(x_train_50)\n",
    "model_cox_50 = CoxPH(net_50, tt.optim.Adam) #cox model on the neural network with Adam optimizer"
   ]
  },
  {
   "cell_type": "code",
   "execution_count": null,
   "id": "c50cae1d",
   "metadata": {},
   "outputs": [],
   "source": [
    "# net for 50% \n",
    "lrfinder_cox_50 = model_cox_50.lr_finder(x_train_50, y_train_50, batch_size = 256, tolerance=10) \n",
    "_ = lrfinder_cox_50.plot()"
   ]
  },
  {
   "cell_type": "code",
   "execution_count": null,
   "id": "a33a4f49",
   "metadata": {},
   "outputs": [],
   "source": [
    "# setting the learnig rate \n",
    "model_cox_50.optimizer.set_lr(0.0050)"
   ]
  },
  {
   "cell_type": "code",
   "execution_count": null,
   "id": "1c4b9442",
   "metadata": {},
   "outputs": [],
   "source": [
    "epochs = 512\n",
    "callbacks = [tt.callbacks.EarlyStopping()]\n",
    "#callbacks = None\n",
    "verbose = True\n",
    "batch_size = 256\n",
    "\n",
    "log_cox_50 = model_cox_50.fit(x_train_50, y_train_50, batch_size, epochs, callbacks, verbose,\n",
    "                val_data =val_50,  val_batch_size=batch_size)"
   ]
  },
  {
   "cell_type": "code",
   "execution_count": null,
   "id": "e14f6354",
   "metadata": {},
   "outputs": [],
   "source": [
    "#plotting the loss vs epoch \n",
    "plt.figure(figsize=[502,502])\n",
    "log_cox_50.plot()\n",
    "plt.xlabel('Epoch', fontsize = 16)\n",
    "plt.ylabel('Loss', fontsize = 16)"
   ]
  },
  {
   "cell_type": "code",
   "execution_count": null,
   "id": "c0c3c656",
   "metadata": {},
   "outputs": [],
   "source": [
    "# predict for the cox model\n",
    "model_cox_50.compute_baseline_hazards() #baseline hazard\n",
    "surv_cox_50 = model_cox_50.predict_surv_df(x_test_50) # survival of the test data"
   ]
  },
  {
   "cell_type": "code",
   "execution_count": null,
   "id": "28683896",
   "metadata": {},
   "outputs": [],
   "source": [
    "# plotting for few outputs\n",
    "plt.figure(figsize=[8,12])\n",
    "plt.subplot()\n",
    "plt.plot(surv_cox_50.iloc[:, :6])\n",
    "plt.xlabel('Time', fontsize = 16)\n",
    "plt.ylabel('Status' , fontsize = 16)\n",
    "plt.legend(range(len(surv_cox.iloc[:, :20])))"
   ]
  },
  {
   "cell_type": "code",
   "execution_count": null,
   "id": "d2a513cf",
   "metadata": {},
   "outputs": [],
   "source": [
    "# evaluate the c-index of the cox model \n",
    "eval_cox_50 = EvalSurv(surv_cox_50, duration_test_50, event_test_50)\n",
    "cox_index_50 = eval_cox_50.concordance_td() \n",
    "cox_index_50"
   ]
  },
  {
   "cell_type": "markdown",
   "id": "14362012",
   "metadata": {},
   "source": [
    "## 25% CENSORING RATE\n",
    "\n",
    "\n"
   ]
  },
  {
   "cell_type": "code",
   "execution_count": null,
   "id": "6151a974",
   "metadata": {},
   "outputs": [],
   "source": [
    "df_train_25, df_test_25, df_val_25 = data_pre(a25)"
   ]
  },
  {
   "cell_type": "code",
   "execution_count": null,
   "id": "f54d5389",
   "metadata": {},
   "outputs": [],
   "source": [
    "x_train_25 , y_train_25 = stand_data(df_train_25)\n",
    "x_test_25 = stand_data(df_test_25)[0] # x test \n",
    "duration_test_25, event_test_25 = stand_data(df_test_25)[1] #y _test\n",
    "val_25 = stand_data(df_val_25)"
   ]
  },
  {
   "cell_type": "code",
   "execution_count": null,
   "id": "36592a79",
   "metadata": {},
   "outputs": [],
   "source": [
    "# net for 25%\n",
    "net_25 = arch_net(x_train_25)\n",
    "model_cox_25 = CoxPH(net_25, tt.optim.Adam) #cox model on the neural network with Adam optimizer"
   ]
  },
  {
   "cell_type": "code",
   "execution_count": null,
   "id": "b21ffd72",
   "metadata": {},
   "outputs": [],
   "source": [
    "# net for 25% \n",
    "lrfinder_cox_25 = model_cox_25.lr_finder(x_train_25, y_train_25, batch_size = 256, tolerance=250) \n",
    "_ = lrfinder_cox_25.plot()"
   ]
  },
  {
   "cell_type": "code",
   "execution_count": null,
   "id": "b48867f1",
   "metadata": {},
   "outputs": [],
   "source": [
    "# setting the learnig rate \n",
    "model_cox_25.optimizer.set_lr(0.0025)"
   ]
  },
  {
   "cell_type": "code",
   "execution_count": null,
   "id": "a37439b6",
   "metadata": {},
   "outputs": [],
   "source": [
    "epochs = 5252\n",
    "callbacks = [tt.callbacks.EarlyStopping()]\n",
    "#callbacks = None\n",
    "verbose = True\n",
    "batch_size = 256\n",
    "\n",
    "log_cox_25 = model_cox_25.fit(x_train_25, y_train_25, batch_size, epochs, callbacks, verbose,\n",
    "                val_data =val_25,  val_batch_size=batch_size)"
   ]
  },
  {
   "cell_type": "code",
   "execution_count": null,
   "id": "8f67831c",
   "metadata": {},
   "outputs": [],
   "source": [
    "#plotting the loss vs epoch \n",
    "plt.figure(figsize=[252,252])\n",
    "log_cox_25.plot()\n",
    "plt.xlabel('Epoch', fontsize = 16)\n",
    "plt.ylabel('Loss', fontsize = 16)"
   ]
  },
  {
   "cell_type": "code",
   "execution_count": null,
   "id": "f84d60d5",
   "metadata": {},
   "outputs": [],
   "source": [
    "# predict for the cox model\n",
    "model_cox_25.compute_baseline_hazards() #baseline hazard\n",
    "surv_cox_25 = model_cox_25.predict_surv_df(x_test_25) # survival of the test data"
   ]
  },
  {
   "cell_type": "code",
   "execution_count": null,
   "id": "acafe9f0",
   "metadata": {},
   "outputs": [],
   "source": [
    "# plotting for few outputs\n",
    "plt.figure(figsize=[252,250])\n",
    "plt.subplot()\n",
    "plt.plot(surv_cox_25.iloc[:, :6])\n",
    "plt.xlabel('Time', fontsize = 16)\n",
    "plt.ylabel('Status' , fontsize = 16)\n",
    "plt.legend(range(len(surv_cox.iloc[:, :20])))"
   ]
  },
  {
   "cell_type": "code",
   "execution_count": null,
   "id": "da976033",
   "metadata": {},
   "outputs": [],
   "source": [
    "# evaluate the c-index of the cox model \n",
    "eval_cox_25 = EvalSurv(surv_cox_25, duration_test_25, event_test_25)\n",
    "cox_index_25 = eval_cox_25.concordance_td() \n",
    "cox_index_25"
   ]
  },
  {
   "cell_type": "markdown",
   "id": "029aeb22",
   "metadata": {},
   "source": [
    "## 50% CENSORING RATE\n",
    "\n",
    "\n"
   ]
  },
  {
   "cell_type": "code",
   "execution_count": null,
   "id": "427eae1c",
   "metadata": {},
   "outputs": [],
   "source": [
    "df_train_50, df_test_50, df_val_50 = data_pre(a50)"
   ]
  },
  {
   "cell_type": "code",
   "execution_count": null,
   "id": "c421c439",
   "metadata": {},
   "outputs": [],
   "source": [
    "x_train_50 , y_train_50 = stand_data(df_train_50)\n",
    "x_test_50 = stand_data(df_test_50)[0] # x test \n",
    "duration_test_50, event_test_50 = stand_data(df_test_50)[1] #y _test\n",
    "val_50 = stand_data(df_val_50)"
   ]
  },
  {
   "cell_type": "code",
   "execution_count": null,
   "id": "20a40e38",
   "metadata": {},
   "outputs": [],
   "source": [
    "# net for 50%\n",
    "net_50 = arch_net(x_train_50)\n",
    "model_cox_50 = CoxPH(net_50, tt.optim.Adam) #cox model on the neural network with Adam optimizer"
   ]
  },
  {
   "cell_type": "code",
   "execution_count": null,
   "id": "c50cae1d",
   "metadata": {},
   "outputs": [],
   "source": [
    "# net for 50% \n",
    "lrfinder_cox_50 = model_cox_50.lr_finder(x_train_50, y_train_50, batch_size = 256, tolerance=10) \n",
    "_ = lrfinder_cox_50.plot()"
   ]
  },
  {
   "cell_type": "code",
   "execution_count": null,
   "id": "a33a4f49",
   "metadata": {},
   "outputs": [],
   "source": [
    "# setting the learnig rate \n",
    "model_cox_50.optimizer.set_lr(0.0050)"
   ]
  },
  {
   "cell_type": "code",
   "execution_count": null,
   "id": "1c4b9442",
   "metadata": {},
   "outputs": [],
   "source": [
    "epochs = 512\n",
    "callbacks = [tt.callbacks.EarlyStopping()]\n",
    "#callbacks = None\n",
    "verbose = True\n",
    "batch_size = 256\n",
    "\n",
    "log_cox_50 = model_cox_50.fit(x_train_50, y_train_50, batch_size, epochs, callbacks, verbose,\n",
    "                val_data =val_50,  val_batch_size=batch_size)"
   ]
  },
  {
   "cell_type": "code",
   "execution_count": null,
   "id": "e14f6354",
   "metadata": {},
   "outputs": [],
   "source": [
    "#plotting the loss vs epoch \n",
    "plt.figure(figsize=[502,502])\n",
    "log_cox_50.plot()\n",
    "plt.xlabel('Epoch', fontsize = 16)\n",
    "plt.ylabel('Loss', fontsize = 16)"
   ]
  },
  {
   "cell_type": "code",
   "execution_count": null,
   "id": "c0c3c656",
   "metadata": {},
   "outputs": [],
   "source": [
    "# predict for the cox model\n",
    "model_cox_50.compute_baseline_hazards() #baseline hazard\n",
    "surv_cox_50 = model_cox_50.predict_surv_df(x_test_50) # survival of the test data"
   ]
  },
  {
   "cell_type": "code",
   "execution_count": null,
   "id": "28683896",
   "metadata": {},
   "outputs": [],
   "source": [
    "# plotting for few outputs\n",
    "plt.figure(figsize=[8,12])\n",
    "plt.subplot()\n",
    "plt.plot(surv_cox_50.iloc[:, :6])\n",
    "plt.xlabel('Time', fontsize = 16)\n",
    "plt.ylabel('Status' , fontsize = 16)\n",
    "plt.legend(range(len(surv_cox.iloc[:, :20])))"
   ]
  },
  {
   "cell_type": "code",
   "execution_count": null,
   "id": "d2a513cf",
   "metadata": {},
   "outputs": [],
   "source": [
    "# evaluate the c-index of the cox model \n",
    "eval_cox_50 = EvalSurv(surv_cox_50, duration_test_50, event_test_50)\n",
    "cox_index_50 = eval_cox_50.concordance_td() \n",
    "cox_index_50"
   ]
  },
  {
   "cell_type": "markdown",
   "id": "e037fdd5",
   "metadata": {},
   "source": [
    "##  &% % CENSORING RATE"
   ]
  },
  {
   "cell_type": "code",
   "execution_count": null,
   "id": "427eae1c",
   "metadata": {},
   "outputs": [],
   "source": [
    "df_train_50, df_test_50, df_val_50 = data_pre(a50)"
   ]
  },
  {
   "cell_type": "code",
   "execution_count": null,
   "id": "64c359c6",
   "metadata": {},
   "outputs": [],
   "source": [
    "x_train_50 , y_train_50 = stand_data(df_train_50)\n",
    "x_test_50 = stand_data(df_test_50)[0] # x test \n",
    "duration_test_50, event_test_50 = stand_data(df_test_50)[1] #y _test\n",
    "val_50 = stand_data(df_val_50)"
   ]
  },
  {
   "cell_type": "code",
   "execution_count": null,
   "id": "20a40e38",
   "metadata": {},
   "outputs": [],
   "source": [
    "# net for 50%\n",
    "net_50 = arch_net(x_train_50)\n",
    "model_cox_50 = CoxPH(net_50, tt.optim.Adam) #cox model on the neural network with Adam optimizer"
   ]
  },
  {
   "cell_type": "code",
   "execution_count": null,
   "id": "c50cae1d",
   "metadata": {},
   "outputs": [],
   "source": [
    "# net for 50% \n",
    "lrfinder_cox_50 = model_cox_50.lr_finder(x_train_50, y_train_50, batch_size = 256, tolerance=10) \n",
    "_ = lrfinder_cox_50.plot()"
   ]
  },
  {
   "cell_type": "code",
   "execution_count": null,
   "id": "a33a4f49",
   "metadata": {},
   "outputs": [],
   "source": [
    "# setting the learnig rate \n",
    "model_cox_50.optimizer.set_lr(0.0050)"
   ]
  },
  {
   "cell_type": "code",
   "execution_count": null,
   "id": "1c4b9442",
   "metadata": {},
   "outputs": [],
   "source": [
    "epochs = 512\n",
    "callbacks = [tt.callbacks.EarlyStopping()]\n",
    "#callbacks = None\n",
    "verbose = True\n",
    "batch_size = 256\n",
    "\n",
    "log_cox_50 = model_cox_50.fit(x_train_50, y_train_50, batch_size, epochs, callbacks, verbose,\n",
    "                val_data =val_50,  val_batch_size=batch_size)"
   ]
  },
  {
   "cell_type": "code",
   "execution_count": null,
   "id": "e14f6354",
   "metadata": {},
   "outputs": [],
   "source": [
    "#plotting the loss vs epoch \n",
    "plt.figure(figsize=[502,502])\n",
    "log_cox_50.plot()\n",
    "plt.xlabel('Epoch', fontsize = 16)\n",
    "plt.ylabel('Loss', fontsize = 16)"
   ]
  },
  {
   "cell_type": "code",
   "execution_count": null,
   "id": "c0c3c656",
   "metadata": {},
   "outputs": [],
   "source": [
    "# predict for the cox model\n",
    "model_cox_50.compute_baseline_hazards() #baseline hazard\n",
    "surv_cox_50 = model_cox_50.predict_surv_df(x_test_50) # survival of the test data"
   ]
  },
  {
   "cell_type": "code",
   "execution_count": null,
   "id": "28683896",
   "metadata": {},
   "outputs": [],
   "source": [
    "# plotting for few outputs\n",
    "plt.figure(figsize=[8,12])\n",
    "plt.subplot()\n",
    "plt.plot(surv_cox_50.iloc[:, :6])\n",
    "plt.xlabel('Time', fontsize = 16)\n",
    "plt.ylabel('Status' , fontsize = 16)\n",
    "plt.legend(range(len(surv_cox.iloc[:, :20])))"
   ]
  },
  {
   "cell_type": "code",
   "execution_count": null,
   "id": "d2a513cf",
   "metadata": {},
   "outputs": [],
   "source": [
    "# evaluate the c-index of the cox model \n",
    "eval_cox_50 = EvalSurv(surv_cox_50, duration_test_50, event_test_50)\n",
    "cox_index_50 = eval_cox_50.concordance_td() \n",
    "cox_index_50"
   ]
  },
  {
   "cell_type": "code",
   "execution_count": null,
   "id": "d52738ff",
   "metadata": {},
   "outputs": [],
   "source": []
  }
 ],
 "metadata": {
  "kernelspec": {
   "display_name": "Python 3",
   "language": "python",
   "name": "python3"
  },
  "language_info": {
   "codemirror_mode": {
    "name": "ipython",
    "version": 3
   },
   "file_extension": ".py",
   "mimetype": "text/x-python",
   "name": "python",
   "nbconvert_exporter": "python",
   "pygments_lexer": "ipython3",
   "version": "3.8.8"
  }
 },
 "nbformat": 4,
 "nbformat_minor": 5
}
